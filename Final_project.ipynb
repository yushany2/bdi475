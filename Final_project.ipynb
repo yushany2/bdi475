{
  "nbformat": 4,
  "nbformat_minor": 0,
  "metadata": {
    "colab": {
      "name": "Final project.ipynb",
      "provenance": [],
      "authorship_tag": "ABX9TyMArUlGIk3ZDjxUnaZLgt9v",
      "include_colab_link": true
    },
    "kernelspec": {
      "name": "python3",
      "display_name": "Python 3"
    },
    "language_info": {
      "name": "python"
    }
  },
  "cells": [
    {
      "cell_type": "markdown",
      "metadata": {
        "id": "view-in-github",
        "colab_type": "text"
      },
      "source": [
        "<a href=\"https://colab.research.google.com/github/yushany2/bdi475/blob/main/Final_project.ipynb\" target=\"_parent\"><img src=\"https://colab.research.google.com/assets/colab-badge.svg\" alt=\"Open In Colab\"/></a>"
      ]
    },
    {
      "cell_type": "code",
      "metadata": {
        "id": "s9-Z65wuRqcT"
      },
      "source": [
        "import pandas as pd\n",
        "import numpy as np\n",
        "import seaborn as sns\n",
        "import matplotlib.pyplot as plt\n",
        "import plotly.graph_objects as go\n",
        "import plotly.express as px\n",
        "df = pd.read_csv('https://github.com/yushany2/bdi475/raw/main/Characters.csv', sep=';', encoding=\"ISO-8859-1\")"
      ],
      "execution_count": 1,
      "outputs": []
    },
    {
      "cell_type": "markdown",
      "metadata": {
        "id": "se8p6N2SMEJu"
      },
      "source": [
        "I choose Harry Potter dataset because I watched Harry Potter when I was in primary school. I really like Qiu Zhang and Hermione, and it was Harry Potter let me know there is a kind of plant called "
      ]
    },
    {
      "cell_type": "code",
      "metadata": {
        "colab": {
          "base_uri": "https://localhost:8080/"
        },
        "id": "WBhsjauNyMHA",
        "outputId": "0360ccd6-8826-47cc-fae4-03093097dce6"
      },
      "source": [
        "if 'google.colab' in str(get_ipython()):\n",
        "  !pip install plotly==4.14.3"
      ],
      "execution_count": 2,
      "outputs": [
        {
          "output_type": "stream",
          "text": [
            "Requirement already satisfied: plotly==4.14.3 in /usr/local/lib/python3.7/dist-packages (4.14.3)\n",
            "Requirement already satisfied: six in /usr/local/lib/python3.7/dist-packages (from plotly==4.14.3) (1.15.0)\n",
            "Requirement already satisfied: retrying>=1.3.3 in /usr/local/lib/python3.7/dist-packages (from plotly==4.14.3) (1.3.3)\n"
          ],
          "name": "stdout"
        }
      ]
    },
    {
      "cell_type": "code",
      "metadata": {
        "id": "GRKXSIjYySQz"
      },
      "source": [
        "import plotly.express as px\n",
        "import plotly.graph_objects as go"
      ],
      "execution_count": 3,
      "outputs": []
    },
    {
      "cell_type": "code",
      "metadata": {
        "colab": {
          "base_uri": "https://localhost:8080/",
          "height": 590
        },
        "id": "Grarj41wYfIP",
        "outputId": "10b17f24-7655-4161-c2ab-d1524f8aca0b"
      },
      "source": [
        "df.head()"
      ],
      "execution_count": 4,
      "outputs": [
        {
          "output_type": "execute_result",
          "data": {
            "text/html": [
              "<div>\n",
              "<style scoped>\n",
              "    .dataframe tbody tr th:only-of-type {\n",
              "        vertical-align: middle;\n",
              "    }\n",
              "\n",
              "    .dataframe tbody tr th {\n",
              "        vertical-align: top;\n",
              "    }\n",
              "\n",
              "    .dataframe thead th {\n",
              "        text-align: right;\n",
              "    }\n",
              "</style>\n",
              "<table border=\"1\" class=\"dataframe\">\n",
              "  <thead>\n",
              "    <tr style=\"text-align: right;\">\n",
              "      <th></th>\n",
              "      <th>Id</th>\n",
              "      <th>Name</th>\n",
              "      <th>Gender</th>\n",
              "      <th>Job</th>\n",
              "      <th>House</th>\n",
              "      <th>Wand</th>\n",
              "      <th>Patronus</th>\n",
              "      <th>Species</th>\n",
              "      <th>Blood status</th>\n",
              "      <th>Hair colour</th>\n",
              "      <th>Eye colour</th>\n",
              "      <th>Loyalty</th>\n",
              "      <th>Skills</th>\n",
              "      <th>Birth</th>\n",
              "      <th>Death</th>\n",
              "    </tr>\n",
              "  </thead>\n",
              "  <tbody>\n",
              "    <tr>\n",
              "      <th>0</th>\n",
              "      <td>1</td>\n",
              "      <td>Harry James Potter</td>\n",
              "      <td>Male</td>\n",
              "      <td>Student</td>\n",
              "      <td>Gryffindor</td>\n",
              "      <td>11\"  Holly  phoenix feather</td>\n",
              "      <td>Stag</td>\n",
              "      <td>Human</td>\n",
              "      <td>Half-blood</td>\n",
              "      <td>Black</td>\n",
              "      <td>Bright green</td>\n",
              "      <td>Albus Dumbledore | Dumbledore's Army | Order o...</td>\n",
              "      <td>Parseltongue| Defence Against the Dark Arts | ...</td>\n",
              "      <td>31 July 1980</td>\n",
              "      <td>NaN</td>\n",
              "    </tr>\n",
              "    <tr>\n",
              "      <th>1</th>\n",
              "      <td>2</td>\n",
              "      <td>Ronald Bilius Weasley</td>\n",
              "      <td>Male</td>\n",
              "      <td>Student</td>\n",
              "      <td>Gryffindor</td>\n",
              "      <td>12\" Ash unicorn tail hair</td>\n",
              "      <td>Jack Russell terrier</td>\n",
              "      <td>Human</td>\n",
              "      <td>Pure-blood</td>\n",
              "      <td>Red</td>\n",
              "      <td>Blue</td>\n",
              "      <td>Dumbledore's Army | Order of the Phoenix | Hog...</td>\n",
              "      <td>Wizard chess | Quidditch goalkeeping</td>\n",
              "      <td>1 March 1980</td>\n",
              "      <td>NaN</td>\n",
              "    </tr>\n",
              "    <tr>\n",
              "      <th>2</th>\n",
              "      <td>3</td>\n",
              "      <td>Hermione Jean Granger</td>\n",
              "      <td>Female</td>\n",
              "      <td>Student</td>\n",
              "      <td>Gryffindor</td>\n",
              "      <td>10¾\"  vine wood dragon heartstring</td>\n",
              "      <td>Otter</td>\n",
              "      <td>Human</td>\n",
              "      <td>Muggle-born</td>\n",
              "      <td>Brown</td>\n",
              "      <td>Brown</td>\n",
              "      <td>Dumbledore's Army | Order of the Phoenix | Hog...</td>\n",
              "      <td>Almost everything</td>\n",
              "      <td>19 September, 1979</td>\n",
              "      <td>NaN</td>\n",
              "    </tr>\n",
              "    <tr>\n",
              "      <th>3</th>\n",
              "      <td>4</td>\n",
              "      <td>Albus Percival Wulfric Brian Dumbledore</td>\n",
              "      <td>Male</td>\n",
              "      <td>Headmaster</td>\n",
              "      <td>Gryffindor</td>\n",
              "      <td>15\" Elder Thestral tail hair core</td>\n",
              "      <td>Phoenix</td>\n",
              "      <td>Human</td>\n",
              "      <td>Half-blood</td>\n",
              "      <td>Silver| formerly auburn</td>\n",
              "      <td>Blue</td>\n",
              "      <td>Dumbledore's Army | Order of the Phoenix | Hog...</td>\n",
              "      <td>Considered by many to be one of the most power...</td>\n",
              "      <td>Late August 1881</td>\n",
              "      <td>30 June, 1997</td>\n",
              "    </tr>\n",
              "    <tr>\n",
              "      <th>4</th>\n",
              "      <td>5</td>\n",
              "      <td>Rubeus Hagrid</td>\n",
              "      <td>Male</td>\n",
              "      <td>Keeper of Keys and Grounds | Professor of Care...</td>\n",
              "      <td>Gryffindor</td>\n",
              "      <td>16\"  Oak unknown core</td>\n",
              "      <td>None</td>\n",
              "      <td>Half-Human/Half-Giant</td>\n",
              "      <td>Part-Human (Half-giant)</td>\n",
              "      <td>Black</td>\n",
              "      <td>Black</td>\n",
              "      <td>Albus Dumbledore | Order of the Phoenix | Hogw...</td>\n",
              "      <td>Resistant to stunning spells| above average st...</td>\n",
              "      <td>6 December 1928</td>\n",
              "      <td>NaN</td>\n",
              "    </tr>\n",
              "  </tbody>\n",
              "</table>\n",
              "</div>"
            ],
            "text/plain": [
              "   Id  ...           Death\n",
              "0   1  ...             NaN\n",
              "1   2  ...             NaN\n",
              "2   3  ...             NaN\n",
              "3   4  ...  30 June, 1997 \n",
              "4   5  ...             NaN\n",
              "\n",
              "[5 rows x 15 columns]"
            ]
          },
          "metadata": {
            "tags": []
          },
          "execution_count": 4
        }
      ]
    },
    {
      "cell_type": "code",
      "metadata": {
        "colab": {
          "base_uri": "https://localhost:8080/"
        },
        "id": "ajtcnHLWYMT6",
        "outputId": "f0e60736-a14c-4fd7-b708-2297dd6a678f"
      },
      "source": [
        "df.shape"
      ],
      "execution_count": 5,
      "outputs": [
        {
          "output_type": "execute_result",
          "data": {
            "text/plain": [
              "(140, 15)"
            ]
          },
          "metadata": {
            "tags": []
          },
          "execution_count": 5
        }
      ]
    },
    {
      "cell_type": "code",
      "metadata": {
        "colab": {
          "base_uri": "https://localhost:8080/"
        },
        "id": "OvM9WtpHZcl1",
        "outputId": "a121f597-197d-4ef4-f715-c48a65d4b5c9"
      },
      "source": [
        "df.isnull().sum()"
      ],
      "execution_count": 6,
      "outputs": [
        {
          "output_type": "execute_result",
          "data": {
            "text/plain": [
              "Id               0\n",
              "Name             0\n",
              "Gender           1\n",
              "Job             19\n",
              "House           39\n",
              "Wand             8\n",
              "Patronus        10\n",
              "Species          0\n",
              "Blood status    17\n",
              "Hair colour     17\n",
              "Eye colour      54\n",
              "Loyalty         51\n",
              "Skills          27\n",
              "Birth           13\n",
              "Death           98\n",
              "dtype: int64"
            ]
          },
          "metadata": {
            "tags": []
          },
          "execution_count": 6
        }
      ]
    },
    {
      "cell_type": "markdown",
      "metadata": {
        "id": "ICsV0LltbvG3"
      },
      "source": [
        "# Do some cleaning first"
      ]
    },
    {
      "cell_type": "code",
      "metadata": {
        "colab": {
          "base_uri": "https://localhost:8080/"
        },
        "id": "UC6A_qCbaRW1",
        "outputId": "4bb8d969-3a6d-48f8-a8b7-26b31e6cae0c"
      },
      "source": [
        "modifieddf = df.fillna(' ') #I choose to replace any empty values with a space,and named the new dataset modifieddf\n",
        "modifieddf.isnull().sum()# Make sure I did the last step successfully\n",
        "modifieddf.to_csv('modifieddf.csv',index=False)# Store as a new csv\n",
        "modifieddf.shape"
      ],
      "execution_count": 7,
      "outputs": [
        {
          "output_type": "execute_result",
          "data": {
            "text/plain": [
              "(140, 15)"
            ]
          },
          "metadata": {
            "tags": []
          },
          "execution_count": 7
        }
      ]
    },
    {
      "cell_type": "markdown",
      "metadata": {
        "id": "7f819tBFcMHD"
      },
      "source": [
        "# Gender"
      ]
    },
    {
      "cell_type": "code",
      "metadata": {
        "colab": {
          "base_uri": "https://localhost:8080/",
          "height": 334
        },
        "id": "s2zYqWQ4yiRx",
        "outputId": "902fb693-cc92-46c5-d769-f3ac480b07ee"
      },
      "source": [
        "modifieddf.head(3)"
      ],
      "execution_count": 8,
      "outputs": [
        {
          "output_type": "execute_result",
          "data": {
            "text/html": [
              "<div>\n",
              "<style scoped>\n",
              "    .dataframe tbody tr th:only-of-type {\n",
              "        vertical-align: middle;\n",
              "    }\n",
              "\n",
              "    .dataframe tbody tr th {\n",
              "        vertical-align: top;\n",
              "    }\n",
              "\n",
              "    .dataframe thead th {\n",
              "        text-align: right;\n",
              "    }\n",
              "</style>\n",
              "<table border=\"1\" class=\"dataframe\">\n",
              "  <thead>\n",
              "    <tr style=\"text-align: right;\">\n",
              "      <th></th>\n",
              "      <th>Id</th>\n",
              "      <th>Name</th>\n",
              "      <th>Gender</th>\n",
              "      <th>Job</th>\n",
              "      <th>House</th>\n",
              "      <th>Wand</th>\n",
              "      <th>Patronus</th>\n",
              "      <th>Species</th>\n",
              "      <th>Blood status</th>\n",
              "      <th>Hair colour</th>\n",
              "      <th>Eye colour</th>\n",
              "      <th>Loyalty</th>\n",
              "      <th>Skills</th>\n",
              "      <th>Birth</th>\n",
              "      <th>Death</th>\n",
              "    </tr>\n",
              "  </thead>\n",
              "  <tbody>\n",
              "    <tr>\n",
              "      <th>0</th>\n",
              "      <td>1</td>\n",
              "      <td>Harry James Potter</td>\n",
              "      <td>Male</td>\n",
              "      <td>Student</td>\n",
              "      <td>Gryffindor</td>\n",
              "      <td>11\"  Holly  phoenix feather</td>\n",
              "      <td>Stag</td>\n",
              "      <td>Human</td>\n",
              "      <td>Half-blood</td>\n",
              "      <td>Black</td>\n",
              "      <td>Bright green</td>\n",
              "      <td>Albus Dumbledore | Dumbledore's Army | Order o...</td>\n",
              "      <td>Parseltongue| Defence Against the Dark Arts | ...</td>\n",
              "      <td>31 July 1980</td>\n",
              "      <td></td>\n",
              "    </tr>\n",
              "    <tr>\n",
              "      <th>1</th>\n",
              "      <td>2</td>\n",
              "      <td>Ronald Bilius Weasley</td>\n",
              "      <td>Male</td>\n",
              "      <td>Student</td>\n",
              "      <td>Gryffindor</td>\n",
              "      <td>12\" Ash unicorn tail hair</td>\n",
              "      <td>Jack Russell terrier</td>\n",
              "      <td>Human</td>\n",
              "      <td>Pure-blood</td>\n",
              "      <td>Red</td>\n",
              "      <td>Blue</td>\n",
              "      <td>Dumbledore's Army | Order of the Phoenix | Hog...</td>\n",
              "      <td>Wizard chess | Quidditch goalkeeping</td>\n",
              "      <td>1 March 1980</td>\n",
              "      <td></td>\n",
              "    </tr>\n",
              "    <tr>\n",
              "      <th>2</th>\n",
              "      <td>3</td>\n",
              "      <td>Hermione Jean Granger</td>\n",
              "      <td>Female</td>\n",
              "      <td>Student</td>\n",
              "      <td>Gryffindor</td>\n",
              "      <td>10¾\"  vine wood dragon heartstring</td>\n",
              "      <td>Otter</td>\n",
              "      <td>Human</td>\n",
              "      <td>Muggle-born</td>\n",
              "      <td>Brown</td>\n",
              "      <td>Brown</td>\n",
              "      <td>Dumbledore's Army | Order of the Phoenix | Hog...</td>\n",
              "      <td>Almost everything</td>\n",
              "      <td>19 September, 1979</td>\n",
              "      <td></td>\n",
              "    </tr>\n",
              "  </tbody>\n",
              "</table>\n",
              "</div>"
            ],
            "text/plain": [
              "   Id                   Name  ...               Birth Death\n",
              "0   1     Harry James Potter  ...        31 July 1980      \n",
              "1   2  Ronald Bilius Weasley  ...        1 March 1980      \n",
              "2   3  Hermione Jean Granger  ...  19 September, 1979      \n",
              "\n",
              "[3 rows x 15 columns]"
            ]
          },
          "metadata": {
            "tags": []
          },
          "execution_count": 8
        }
      ]
    },
    {
      "cell_type": "code",
      "metadata": {
        "colab": {
          "base_uri": "https://localhost:8080/",
          "height": 617
        },
        "id": "sMjZNqoYyece",
        "outputId": "ce567122-c1bf-45da-cd34-7b2d50994790"
      },
      "source": [
        "fig = px.pie(\n",
        "    modifieddf[modifieddf['Gender'] != ' '],\n",
        "    names='Gender',\n",
        "    title='Gender Breakdown',\n",
        "    width=600,\n",
        "    height=600\n",
        ")\n",
        "\n",
        "fig.show()"
      ],
      "execution_count": 9,
      "outputs": [
        {
          "output_type": "display_data",
          "data": {
            "text/html": [
              "<html>\n",
              "<head><meta charset=\"utf-8\" /></head>\n",
              "<body>\n",
              "    <div>            <script src=\"https://cdnjs.cloudflare.com/ajax/libs/mathjax/2.7.5/MathJax.js?config=TeX-AMS-MML_SVG\"></script><script type=\"text/javascript\">if (window.MathJax) {MathJax.Hub.Config({SVG: {font: \"STIX-Web\"}});}</script>                <script type=\"text/javascript\">window.PlotlyConfig = {MathJaxConfig: 'local'};</script>\n",
              "        <script src=\"https://cdn.plot.ly/plotly-latest.min.js\"></script>                <div id=\"e4e219ae-7a1c-4513-aece-c8a97eed400b\" class=\"plotly-graph-div\" style=\"height:600px; width:600px;\"></div>            <script type=\"text/javascript\">                                    window.PLOTLYENV=window.PLOTLYENV || {};                                    if (document.getElementById(\"e4e219ae-7a1c-4513-aece-c8a97eed400b\")) {                    Plotly.newPlot(                        \"e4e219ae-7a1c-4513-aece-c8a97eed400b\",                        [{\"domain\": {\"x\": [0.0, 1.0], \"y\": [0.0, 1.0]}, \"hovertemplate\": \"Gender=%{label}<extra></extra>\", \"labels\": [\"Male\", \"Male\", \"Female\", \"Male\", \"Male\", \"Male\", \"Male\", \"Male\", \"Female\", \"Male\", \"Male\", \"Female\", \"Male\", \"Male\", \"Male\", \"Male\", \"Male\", \"Male\", \"Male\", \"Male\", \"Male\", \"Female\", \"Female\", \"Female\", \"Female\", \"Female\", \"Female\", \"Male\", \"Male\", \"Female\", \"Female\", \"Male\", \"Male\", \"Female\", \"Female\", \"Male\", \"Male\", \"Female\", \"Male\", \"Female\", \"Female\", \"Male\", \"Female\", \"Male\", \"Male\", \"Male\", \"Male\", \"Male\", \"Male\", \"Female\", \"Female\", \"Male\", \"Female\", \"Male\", \"Female\", \"Male\", \"Male\", \"Male\", \"Male\", \"Female\", \"Male\", \"Male\", \"Male\", \"Female\", \"Male\", \"Male\", \"Male\", \"Male\", \"Female\", \"Male\", \"Male\", \"Male\", \"Female\", \"Male\", \"Female\", \"Male\", \"Female\", \"Male\", \"Female\", \"Female\", \"Female\", \"Male\", \"Male\", \"Male\", \"Male\", \"Female\", \"Male\", \"Female\", \"Male\", \"Male\", \"Male\", \"Male\", \"Male\", \"Male\", \"Male\", \"Female\", \"Male\", \"Male\", \"Male\", \"Male\", \"Male\", \"Male\", \"Male\", \"Female\", \"Male\", \"Male\", \"Male\", \"Female\", \"Female\", \"Male\", \"Male\", \"Female\", \"Male\", \"Female\", \"Male\", \"Female\", \"Female\", \"Male\", \"Female\", \"Male\", \"Male\", \"Female\", \"Male\", \"Male\", \"Male\", \"Male\", \"Male\", \"Female\", \"Male\", \"Female\", \"Female\", \"Female\", \"Female\", \"Female\", \"Female\", \"Male\", \"Male\", \"Male\", \"Male\"], \"legendgroup\": \"\", \"name\": \"\", \"showlegend\": true, \"type\": \"pie\"}],                        {\"height\": 600, \"legend\": {\"tracegroupgap\": 0}, \"template\": {\"data\": {\"bar\": [{\"error_x\": {\"color\": \"#2a3f5f\"}, \"error_y\": {\"color\": \"#2a3f5f\"}, \"marker\": {\"line\": {\"color\": \"#E5ECF6\", \"width\": 0.5}}, \"type\": \"bar\"}], \"barpolar\": [{\"marker\": {\"line\": {\"color\": \"#E5ECF6\", \"width\": 0.5}}, \"type\": \"barpolar\"}], \"carpet\": [{\"aaxis\": {\"endlinecolor\": \"#2a3f5f\", \"gridcolor\": \"white\", \"linecolor\": \"white\", \"minorgridcolor\": \"white\", \"startlinecolor\": \"#2a3f5f\"}, \"baxis\": {\"endlinecolor\": \"#2a3f5f\", \"gridcolor\": \"white\", \"linecolor\": \"white\", \"minorgridcolor\": \"white\", \"startlinecolor\": \"#2a3f5f\"}, \"type\": \"carpet\"}], \"choropleth\": [{\"colorbar\": {\"outlinewidth\": 0, \"ticks\": \"\"}, \"type\": \"choropleth\"}], \"contour\": [{\"colorbar\": {\"outlinewidth\": 0, \"ticks\": \"\"}, \"colorscale\": [[0.0, \"#0d0887\"], [0.1111111111111111, \"#46039f\"], [0.2222222222222222, \"#7201a8\"], [0.3333333333333333, \"#9c179e\"], [0.4444444444444444, \"#bd3786\"], [0.5555555555555556, \"#d8576b\"], [0.6666666666666666, \"#ed7953\"], [0.7777777777777778, \"#fb9f3a\"], [0.8888888888888888, \"#fdca26\"], [1.0, \"#f0f921\"]], \"type\": \"contour\"}], \"contourcarpet\": [{\"colorbar\": {\"outlinewidth\": 0, \"ticks\": \"\"}, \"type\": \"contourcarpet\"}], \"heatmap\": [{\"colorbar\": {\"outlinewidth\": 0, \"ticks\": \"\"}, \"colorscale\": [[0.0, \"#0d0887\"], [0.1111111111111111, \"#46039f\"], [0.2222222222222222, \"#7201a8\"], [0.3333333333333333, \"#9c179e\"], [0.4444444444444444, \"#bd3786\"], [0.5555555555555556, \"#d8576b\"], [0.6666666666666666, \"#ed7953\"], [0.7777777777777778, \"#fb9f3a\"], [0.8888888888888888, \"#fdca26\"], [1.0, \"#f0f921\"]], \"type\": \"heatmap\"}], \"heatmapgl\": [{\"colorbar\": {\"outlinewidth\": 0, \"ticks\": \"\"}, \"colorscale\": [[0.0, \"#0d0887\"], [0.1111111111111111, \"#46039f\"], [0.2222222222222222, \"#7201a8\"], [0.3333333333333333, \"#9c179e\"], [0.4444444444444444, \"#bd3786\"], [0.5555555555555556, \"#d8576b\"], [0.6666666666666666, \"#ed7953\"], [0.7777777777777778, \"#fb9f3a\"], [0.8888888888888888, \"#fdca26\"], [1.0, \"#f0f921\"]], \"type\": \"heatmapgl\"}], \"histogram\": [{\"marker\": {\"colorbar\": {\"outlinewidth\": 0, \"ticks\": \"\"}}, \"type\": \"histogram\"}], \"histogram2d\": [{\"colorbar\": {\"outlinewidth\": 0, \"ticks\": \"\"}, \"colorscale\": [[0.0, \"#0d0887\"], [0.1111111111111111, \"#46039f\"], [0.2222222222222222, \"#7201a8\"], [0.3333333333333333, \"#9c179e\"], [0.4444444444444444, \"#bd3786\"], [0.5555555555555556, \"#d8576b\"], [0.6666666666666666, \"#ed7953\"], [0.7777777777777778, \"#fb9f3a\"], [0.8888888888888888, \"#fdca26\"], [1.0, \"#f0f921\"]], \"type\": \"histogram2d\"}], \"histogram2dcontour\": [{\"colorbar\": {\"outlinewidth\": 0, \"ticks\": \"\"}, \"colorscale\": [[0.0, \"#0d0887\"], [0.1111111111111111, \"#46039f\"], [0.2222222222222222, \"#7201a8\"], [0.3333333333333333, \"#9c179e\"], [0.4444444444444444, \"#bd3786\"], [0.5555555555555556, \"#d8576b\"], [0.6666666666666666, \"#ed7953\"], [0.7777777777777778, \"#fb9f3a\"], [0.8888888888888888, \"#fdca26\"], [1.0, \"#f0f921\"]], \"type\": \"histogram2dcontour\"}], \"mesh3d\": [{\"colorbar\": {\"outlinewidth\": 0, \"ticks\": \"\"}, \"type\": \"mesh3d\"}], \"parcoords\": [{\"line\": {\"colorbar\": {\"outlinewidth\": 0, \"ticks\": \"\"}}, \"type\": \"parcoords\"}], \"pie\": [{\"automargin\": true, \"type\": \"pie\"}], \"scatter\": [{\"marker\": {\"colorbar\": {\"outlinewidth\": 0, \"ticks\": \"\"}}, \"type\": \"scatter\"}], \"scatter3d\": [{\"line\": {\"colorbar\": {\"outlinewidth\": 0, \"ticks\": \"\"}}, \"marker\": {\"colorbar\": {\"outlinewidth\": 0, \"ticks\": \"\"}}, \"type\": \"scatter3d\"}], \"scattercarpet\": [{\"marker\": {\"colorbar\": {\"outlinewidth\": 0, \"ticks\": \"\"}}, \"type\": \"scattercarpet\"}], \"scattergeo\": [{\"marker\": {\"colorbar\": {\"outlinewidth\": 0, \"ticks\": \"\"}}, \"type\": \"scattergeo\"}], \"scattergl\": [{\"marker\": {\"colorbar\": {\"outlinewidth\": 0, \"ticks\": \"\"}}, \"type\": \"scattergl\"}], \"scattermapbox\": [{\"marker\": {\"colorbar\": {\"outlinewidth\": 0, \"ticks\": \"\"}}, \"type\": \"scattermapbox\"}], \"scatterpolar\": [{\"marker\": {\"colorbar\": {\"outlinewidth\": 0, \"ticks\": \"\"}}, \"type\": \"scatterpolar\"}], \"scatterpolargl\": [{\"marker\": {\"colorbar\": {\"outlinewidth\": 0, \"ticks\": \"\"}}, \"type\": \"scatterpolargl\"}], \"scatterternary\": [{\"marker\": {\"colorbar\": {\"outlinewidth\": 0, \"ticks\": \"\"}}, \"type\": \"scatterternary\"}], \"surface\": [{\"colorbar\": {\"outlinewidth\": 0, \"ticks\": \"\"}, \"colorscale\": [[0.0, \"#0d0887\"], [0.1111111111111111, \"#46039f\"], [0.2222222222222222, \"#7201a8\"], [0.3333333333333333, \"#9c179e\"], [0.4444444444444444, \"#bd3786\"], [0.5555555555555556, \"#d8576b\"], [0.6666666666666666, \"#ed7953\"], [0.7777777777777778, \"#fb9f3a\"], [0.8888888888888888, \"#fdca26\"], [1.0, \"#f0f921\"]], \"type\": \"surface\"}], \"table\": [{\"cells\": {\"fill\": {\"color\": \"#EBF0F8\"}, \"line\": {\"color\": \"white\"}}, \"header\": {\"fill\": {\"color\": \"#C8D4E3\"}, \"line\": {\"color\": \"white\"}}, \"type\": \"table\"}]}, \"layout\": {\"annotationdefaults\": {\"arrowcolor\": \"#2a3f5f\", \"arrowhead\": 0, \"arrowwidth\": 1}, \"autotypenumbers\": \"strict\", \"coloraxis\": {\"colorbar\": {\"outlinewidth\": 0, \"ticks\": \"\"}}, \"colorscale\": {\"diverging\": [[0, \"#8e0152\"], [0.1, \"#c51b7d\"], [0.2, \"#de77ae\"], [0.3, \"#f1b6da\"], [0.4, \"#fde0ef\"], [0.5, \"#f7f7f7\"], [0.6, \"#e6f5d0\"], [0.7, \"#b8e186\"], [0.8, \"#7fbc41\"], [0.9, \"#4d9221\"], [1, \"#276419\"]], \"sequential\": [[0.0, \"#0d0887\"], [0.1111111111111111, \"#46039f\"], [0.2222222222222222, \"#7201a8\"], [0.3333333333333333, \"#9c179e\"], [0.4444444444444444, \"#bd3786\"], [0.5555555555555556, \"#d8576b\"], [0.6666666666666666, \"#ed7953\"], [0.7777777777777778, \"#fb9f3a\"], [0.8888888888888888, \"#fdca26\"], [1.0, \"#f0f921\"]], \"sequentialminus\": [[0.0, \"#0d0887\"], [0.1111111111111111, \"#46039f\"], [0.2222222222222222, \"#7201a8\"], [0.3333333333333333, \"#9c179e\"], [0.4444444444444444, \"#bd3786\"], [0.5555555555555556, \"#d8576b\"], [0.6666666666666666, \"#ed7953\"], [0.7777777777777778, \"#fb9f3a\"], [0.8888888888888888, \"#fdca26\"], [1.0, \"#f0f921\"]]}, \"colorway\": [\"#636efa\", \"#EF553B\", \"#00cc96\", \"#ab63fa\", \"#FFA15A\", \"#19d3f3\", \"#FF6692\", \"#B6E880\", \"#FF97FF\", \"#FECB52\"], \"font\": {\"color\": \"#2a3f5f\"}, \"geo\": {\"bgcolor\": \"white\", \"lakecolor\": \"white\", \"landcolor\": \"#E5ECF6\", \"showlakes\": true, \"showland\": true, \"subunitcolor\": \"white\"}, \"hoverlabel\": {\"align\": \"left\"}, \"hovermode\": \"closest\", \"mapbox\": {\"style\": \"light\"}, \"paper_bgcolor\": \"white\", \"plot_bgcolor\": \"#E5ECF6\", \"polar\": {\"angularaxis\": {\"gridcolor\": \"white\", \"linecolor\": \"white\", \"ticks\": \"\"}, \"bgcolor\": \"#E5ECF6\", \"radialaxis\": {\"gridcolor\": \"white\", \"linecolor\": \"white\", \"ticks\": \"\"}}, \"scene\": {\"xaxis\": {\"backgroundcolor\": \"#E5ECF6\", \"gridcolor\": \"white\", \"gridwidth\": 2, \"linecolor\": \"white\", \"showbackground\": true, \"ticks\": \"\", \"zerolinecolor\": \"white\"}, \"yaxis\": {\"backgroundcolor\": \"#E5ECF6\", \"gridcolor\": \"white\", \"gridwidth\": 2, \"linecolor\": \"white\", \"showbackground\": true, \"ticks\": \"\", \"zerolinecolor\": \"white\"}, \"zaxis\": {\"backgroundcolor\": \"#E5ECF6\", \"gridcolor\": \"white\", \"gridwidth\": 2, \"linecolor\": \"white\", \"showbackground\": true, \"ticks\": \"\", \"zerolinecolor\": \"white\"}}, \"shapedefaults\": {\"line\": {\"color\": \"#2a3f5f\"}}, \"ternary\": {\"aaxis\": {\"gridcolor\": \"white\", \"linecolor\": \"white\", \"ticks\": \"\"}, \"baxis\": {\"gridcolor\": \"white\", \"linecolor\": \"white\", \"ticks\": \"\"}, \"bgcolor\": \"#E5ECF6\", \"caxis\": {\"gridcolor\": \"white\", \"linecolor\": \"white\", \"ticks\": \"\"}}, \"title\": {\"x\": 0.05}, \"xaxis\": {\"automargin\": true, \"gridcolor\": \"white\", \"linecolor\": \"white\", \"ticks\": \"\", \"title\": {\"standoff\": 15}, \"zerolinecolor\": \"white\", \"zerolinewidth\": 2}, \"yaxis\": {\"automargin\": true, \"gridcolor\": \"white\", \"linecolor\": \"white\", \"ticks\": \"\", \"title\": {\"standoff\": 15}, \"zerolinecolor\": \"white\", \"zerolinewidth\": 2}}}, \"title\": {\"text\": \"Gender Breakdown\"}, \"width\": 600},                        {\"responsive\": true}                    ).then(function(){\n",
              "                            \n",
              "var gd = document.getElementById('e4e219ae-7a1c-4513-aece-c8a97eed400b');\n",
              "var x = new MutationObserver(function (mutations, observer) {{\n",
              "        var display = window.getComputedStyle(gd).display;\n",
              "        if (!display || display === 'none') {{\n",
              "            console.log([gd, 'removed!']);\n",
              "            Plotly.purge(gd);\n",
              "            observer.disconnect();\n",
              "        }}\n",
              "}});\n",
              "\n",
              "// Listen for the removal of the full notebook cells\n",
              "var notebookContainer = gd.closest('#notebook-container');\n",
              "if (notebookContainer) {{\n",
              "    x.observe(notebookContainer, {childList: true});\n",
              "}}\n",
              "\n",
              "// Listen for the clearing of the current output cell\n",
              "var outputEl = gd.closest('.output');\n",
              "if (outputEl) {{\n",
              "    x.observe(outputEl, {childList: true});\n",
              "}}\n",
              "\n",
              "                        })                };                            </script>        </div>\n",
              "</body>\n",
              "</html>"
            ]
          },
          "metadata": {
            "tags": []
          }
        }
      ]
    },
    {
      "cell_type": "markdown",
      "metadata": {
        "id": "BBOLj_9-jV6g"
      },
      "source": [
        "After calculation of percentage of female characters and male characters, I know that this is a novel which has more male than female. This is pie chart is accurate since there is only one person with unknow gender listed in this csv.\n"
      ]
    },
    {
      "cell_type": "code",
      "metadata": {
        "colab": {
          "base_uri": "https://localhost:8080/",
          "height": 422
        },
        "id": "560f0uDOkZ58",
        "outputId": "72ae1e35-a155-461f-ac1c-1fc86cad1b07"
      },
      "source": [
        "plt.figure(figsize=(15, 6))\n",
        "a = sns.countplot(x=\"House\", hue=\"Gender\", palette=[\"#1b6ca8\", \"#db4f62\",\"#7af367\"], data=df[df['House'].notna()])\n",
        "a.legend(loc=\"upper right\")\n",
        "plt.title(\"Houses per Gender\")\n",
        "plt.xlabel(\"House\")\n",
        "#similar with example \n",
        "#how to deal with the bar in the middle(nan value)\n"
      ],
      "execution_count": 10,
      "outputs": [
        {
          "output_type": "execute_result",
          "data": {
            "text/plain": [
              "Text(0.5, 0, 'House')"
            ]
          },
          "metadata": {
            "tags": []
          },
          "execution_count": 10
        },
        {
          "output_type": "display_data",
          "data": {
            "image/png": "[encoded data removed]",
            "text/plain": [
              "<Figure size 1080x432 with 1 Axes>"
            ]
          },
          "metadata": {
            "tags": [],
            "needs_background": "light"
          }
        }
      ]
    },
    {
      "cell_type": "markdown",
      "metadata": {
        "id": "_2DYKtQgmrQw"
      },
      "source": [
        "From this bar chart, we can see how many girls and boys in each house.The short green is the person we do not know his/her gender.  We can see that boys in most houses(Gryffindor, Ravenclaw, Slytherin and Hufflepuff) seem more active than girls. If they did not do something, their names will not apppear in the book.\n",
        "There is a second potential guessing,this bar chart tells us how boys and girls distribute in each house. It could be helpful for Hogwats when they want to do some new construction. For example, it could build more boy dorms in certain houses."
      ]
    },
    {
      "cell_type": "markdown",
      "metadata": {
        "id": "mhS10FBV7rFi"
      },
      "source": [
        "## Hair Color \n"
      ]
    },
    {
      "cell_type": "code",
      "metadata": {
        "colab": {
          "base_uri": "https://localhost:8080/",
          "height": 542
        },
        "id": "eNnEreow4voa",
        "outputId": "38f0be16-fe5d-4321-b1b1-64580e53062b"
      },
      "source": [
        "fig = px.histogram(modifieddf, x='Hair colour', title='Hair colour Distribution', nbins=36)\n",
        "fig.show()"
      ],
      "execution_count": 11,
      "outputs": [
        {
          "output_type": "display_data",
          "data": {
            "text/html": [
              "<html>\n",
              "<head><meta charset=\"utf-8\" /></head>\n",
              "<body>\n",
              "    <div>            <script src=\"https://cdnjs.cloudflare.com/ajax/libs/mathjax/2.7.5/MathJax.js?config=TeX-AMS-MML_SVG\"></script><script type=\"text/javascript\">if (window.MathJax) {MathJax.Hub.Config({SVG: {font: \"STIX-Web\"}});}</script>                <script type=\"text/javascript\">window.PlotlyConfig = {MathJaxConfig: 'local'};</script>\n",
              "        <script src=\"https://cdn.plot.ly/plotly-latest.min.js\"></script>                <div id=\"86083f7c-03f7-4929-af0f-ecddc0bca181\" class=\"plotly-graph-div\" style=\"height:525px; width:100%;\"></div>            <script type=\"text/javascript\">                                    window.PLOTLYENV=window.PLOTLYENV || {};                                    if (document.getElementById(\"86083f7c-03f7-4929-af0f-ecddc0bca181\")) {                    Plotly.newPlot(                        \"86083f7c-03f7-4929-af0f-ecddc0bca181\",                        [{\"alignmentgroup\": \"True\", \"bingroup\": \"x\", \"hovertemplate\": \"Hair colour=%{x}<br>count=%{y}<extra></extra>\", \"legendgroup\": \"\", \"marker\": {\"color\": \"#636efa\"}, \"name\": \"\", \"nbinsx\": 36, \"offsetgroup\": \"\", \"orientation\": \"v\", \"showlegend\": false, \"type\": \"histogram\", \"x\": [\"Black\", \"Red\", \"Brown\", \"Silver| formerly auburn\", \"Black\", \"Blond\", \"Red\", \"Red\", \"Red\", \"Black\", \"Sandy\", \"Auburn\", \"Black\", \"Black\", \"Light brown flecked with grey\", \"Colourless and balding\", \"Red\", \"Red\", \"Red\", \"Black\", \" \", \"Brown\", \"Brown\", \"Brown\", \"Blond\", \"Dark\", \"Black\", \"Mousy\", \"Blond\", \"Black\", \"Red\", \"Red\", \" \", \"Black\", \"Dirty-blonde\", \"Blond\", \"White\", \" \", \" \", \" \", \"Dark\", \"Black\", \"Reddish-blonde\", \" \", \"Blonde\", \"Black\", \"White-blond\", \"Black\", \"Brown\", \"Black\", \"Iron grey\", \"Bald\", \"White-blond\", \"Blonde\", \"Black\", \" \", \"Black\", \"Bald\", \"Brown\", \"Dark\", \"Black\", \"Brown\", \" \", \"Black\", \"Blonde\", \"Dark\", \"Brown\", \"Grey\", \"Red\", \"Black\", \"Grey\", \"White (balding)\", \"Straw blond\", \"Blonde\", \"White-blond\", \" \", \" \", \"Brown\", \"Brown\", \"Black\", \"Variable\", \" \", \"Red brown\", \"Dark\", \"Red\", \"Blonde\", \"Blonde\", \"Blond\", \" \", \"Black\", \"Brown/greying\", \"Dark\", \"Blonde\", \"Silver| formerly black\", \"Bald\", \"Grey\", \"Blonde\", \"Blonde\", \"Tawny\", \"Grey\", \"Grey\", \"Brown\", \" \", \"Silver\", \"Silvery-blonde\", \"Grey\", \"Ginger\", \"Straw-coloured\", \"Black\", \"Red\", \"Red\", \"Red \", \" \", \"Reddish-brown\", \"Black\", \"Black\", \"Brown\", \"Silvery-blonde\", \"Dark\", \"Blonde\", \"Black\", \"Blond\", \"Grey\", \"Mousy brown\", \"Jet-black\", \"White blond\", \"Variable\", \" \", \"Red\", \"Grey\", \" \", \"Grey\", \" \", \"Dark\", \"Black\", \"Grey\", \"Grey\", \"Blond\", \"Green\", \"White\"], \"xaxis\": \"x\", \"yaxis\": \"y\"}],                        {\"barmode\": \"relative\", \"legend\": {\"tracegroupgap\": 0}, \"template\": {\"data\": {\"bar\": [{\"error_x\": {\"color\": \"#2a3f5f\"}, \"error_y\": {\"color\": \"#2a3f5f\"}, \"marker\": {\"line\": {\"color\": \"#E5ECF6\", \"width\": 0.5}}, \"type\": \"bar\"}], \"barpolar\": [{\"marker\": {\"line\": {\"color\": \"#E5ECF6\", \"width\": 0.5}}, \"type\": \"barpolar\"}], \"carpet\": [{\"aaxis\": {\"endlinecolor\": \"#2a3f5f\", \"gridcolor\": \"white\", \"linecolor\": \"white\", \"minorgridcolor\": \"white\", \"startlinecolor\": \"#2a3f5f\"}, \"baxis\": {\"endlinecolor\": \"#2a3f5f\", \"gridcolor\": \"white\", \"linecolor\": \"white\", \"minorgridcolor\": \"white\", \"startlinecolor\": \"#2a3f5f\"}, \"type\": \"carpet\"}], \"choropleth\": [{\"colorbar\": {\"outlinewidth\": 0, \"ticks\": \"\"}, \"type\": \"choropleth\"}], \"contour\": [{\"colorbar\": {\"outlinewidth\": 0, \"ticks\": \"\"}, \"colorscale\": [[0.0, \"#0d0887\"], [0.1111111111111111, \"#46039f\"], [0.2222222222222222, \"#7201a8\"], [0.3333333333333333, \"#9c179e\"], [0.4444444444444444, \"#bd3786\"], [0.5555555555555556, \"#d8576b\"], [0.6666666666666666, \"#ed7953\"], [0.7777777777777778, \"#fb9f3a\"], [0.8888888888888888, \"#fdca26\"], [1.0, \"#f0f921\"]], \"type\": \"contour\"}], \"contourcarpet\": [{\"colorbar\": {\"outlinewidth\": 0, \"ticks\": \"\"}, \"type\": \"contourcarpet\"}], \"heatmap\": [{\"colorbar\": {\"outlinewidth\": 0, \"ticks\": \"\"}, \"colorscale\": [[0.0, \"#0d0887\"], [0.1111111111111111, \"#46039f\"], [0.2222222222222222, \"#7201a8\"], [0.3333333333333333, \"#9c179e\"], [0.4444444444444444, \"#bd3786\"], [0.5555555555555556, \"#d8576b\"], [0.6666666666666666, \"#ed7953\"], [0.7777777777777778, \"#fb9f3a\"], [0.8888888888888888, \"#fdca26\"], [1.0, \"#f0f921\"]], \"type\": \"heatmap\"}], \"heatmapgl\": [{\"colorbar\": {\"outlinewidth\": 0, \"ticks\": \"\"}, \"colorscale\": [[0.0, \"#0d0887\"], [0.1111111111111111, \"#46039f\"], [0.2222222222222222, \"#7201a8\"], [0.3333333333333333, \"#9c179e\"], [0.4444444444444444, \"#bd3786\"], [0.5555555555555556, \"#d8576b\"], [0.6666666666666666, \"#ed7953\"], [0.7777777777777778, \"#fb9f3a\"], [0.8888888888888888, \"#fdca26\"], [1.0, \"#f0f921\"]], \"type\": \"heatmapgl\"}], \"histogram\": [{\"marker\": {\"colorbar\": {\"outlinewidth\": 0, \"ticks\": \"\"}}, \"type\": \"histogram\"}], \"histogram2d\": [{\"colorbar\": {\"outlinewidth\": 0, \"ticks\": \"\"}, \"colorscale\": [[0.0, \"#0d0887\"], [0.1111111111111111, \"#46039f\"], [0.2222222222222222, \"#7201a8\"], [0.3333333333333333, \"#9c179e\"], [0.4444444444444444, \"#bd3786\"], [0.5555555555555556, \"#d8576b\"], [0.6666666666666666, \"#ed7953\"], [0.7777777777777778, \"#fb9f3a\"], [0.8888888888888888, \"#fdca26\"], [1.0, \"#f0f921\"]], \"type\": \"histogram2d\"}], \"histogram2dcontour\": [{\"colorbar\": {\"outlinewidth\": 0, \"ticks\": \"\"}, \"colorscale\": [[0.0, \"#0d0887\"], [0.1111111111111111, \"#46039f\"], [0.2222222222222222, \"#7201a8\"], [0.3333333333333333, \"#9c179e\"], [0.4444444444444444, \"#bd3786\"], [0.5555555555555556, \"#d8576b\"], [0.6666666666666666, \"#ed7953\"], [0.7777777777777778, \"#fb9f3a\"], [0.8888888888888888, \"#fdca26\"], [1.0, \"#f0f921\"]], \"type\": \"histogram2dcontour\"}], \"mesh3d\": [{\"colorbar\": {\"outlinewidth\": 0, \"ticks\": \"\"}, \"type\": \"mesh3d\"}], \"parcoords\": [{\"line\": {\"colorbar\": {\"outlinewidth\": 0, \"ticks\": \"\"}}, \"type\": \"parcoords\"}], \"pie\": [{\"automargin\": true, \"type\": \"pie\"}], \"scatter\": [{\"marker\": {\"colorbar\": {\"outlinewidth\": 0, \"ticks\": \"\"}}, \"type\": \"scatter\"}], \"scatter3d\": [{\"line\": {\"colorbar\": {\"outlinewidth\": 0, \"ticks\": \"\"}}, \"marker\": {\"colorbar\": {\"outlinewidth\": 0, \"ticks\": \"\"}}, \"type\": \"scatter3d\"}], \"scattercarpet\": [{\"marker\": {\"colorbar\": {\"outlinewidth\": 0, \"ticks\": \"\"}}, \"type\": \"scattercarpet\"}], \"scattergeo\": [{\"marker\": {\"colorbar\": {\"outlinewidth\": 0, \"ticks\": \"\"}}, \"type\": \"scattergeo\"}], \"scattergl\": [{\"marker\": {\"colorbar\": {\"outlinewidth\": 0, \"ticks\": \"\"}}, \"type\": \"scattergl\"}], \"scattermapbox\": [{\"marker\": {\"colorbar\": {\"outlinewidth\": 0, \"ticks\": \"\"}}, \"type\": \"scattermapbox\"}], \"scatterpolar\": [{\"marker\": {\"colorbar\": {\"outlinewidth\": 0, \"ticks\": \"\"}}, \"type\": \"scatterpolar\"}], \"scatterpolargl\": [{\"marker\": {\"colorbar\": {\"outlinewidth\": 0, \"ticks\": \"\"}}, \"type\": \"scatterpolargl\"}], \"scatterternary\": [{\"marker\": {\"colorbar\": {\"outlinewidth\": 0, \"ticks\": \"\"}}, \"type\": \"scatterternary\"}], \"surface\": [{\"colorbar\": {\"outlinewidth\": 0, \"ticks\": \"\"}, \"colorscale\": [[0.0, \"#0d0887\"], [0.1111111111111111, \"#46039f\"], [0.2222222222222222, \"#7201a8\"], [0.3333333333333333, \"#9c179e\"], [0.4444444444444444, \"#bd3786\"], [0.5555555555555556, \"#d8576b\"], [0.6666666666666666, \"#ed7953\"], [0.7777777777777778, \"#fb9f3a\"], [0.8888888888888888, \"#fdca26\"], [1.0, \"#f0f921\"]], \"type\": \"surface\"}], \"table\": [{\"cells\": {\"fill\": {\"color\": \"#EBF0F8\"}, \"line\": {\"color\": \"white\"}}, \"header\": {\"fill\": {\"color\": \"#C8D4E3\"}, \"line\": {\"color\": \"white\"}}, \"type\": \"table\"}]}, \"layout\": {\"annotationdefaults\": {\"arrowcolor\": \"#2a3f5f\", \"arrowhead\": 0, \"arrowwidth\": 1}, \"autotypenumbers\": \"strict\", \"coloraxis\": {\"colorbar\": {\"outlinewidth\": 0, \"ticks\": \"\"}}, \"colorscale\": {\"diverging\": [[0, \"#8e0152\"], [0.1, \"#c51b7d\"], [0.2, \"#de77ae\"], [0.3, \"#f1b6da\"], [0.4, \"#fde0ef\"], [0.5, \"#f7f7f7\"], [0.6, \"#e6f5d0\"], [0.7, \"#b8e186\"], [0.8, \"#7fbc41\"], [0.9, \"#4d9221\"], [1, \"#276419\"]], \"sequential\": [[0.0, \"#0d0887\"], [0.1111111111111111, \"#46039f\"], [0.2222222222222222, \"#7201a8\"], [0.3333333333333333, \"#9c179e\"], [0.4444444444444444, \"#bd3786\"], [0.5555555555555556, \"#d8576b\"], [0.6666666666666666, \"#ed7953\"], [0.7777777777777778, \"#fb9f3a\"], [0.8888888888888888, \"#fdca26\"], [1.0, \"#f0f921\"]], \"sequentialminus\": [[0.0, \"#0d0887\"], [0.1111111111111111, \"#46039f\"], [0.2222222222222222, \"#7201a8\"], [0.3333333333333333, \"#9c179e\"], [0.4444444444444444, \"#bd3786\"], [0.5555555555555556, \"#d8576b\"], [0.6666666666666666, \"#ed7953\"], [0.7777777777777778, \"#fb9f3a\"], [0.8888888888888888, \"#fdca26\"], [1.0, \"#f0f921\"]]}, \"colorway\": [\"#636efa\", \"#EF553B\", \"#00cc96\", \"#ab63fa\", \"#FFA15A\", \"#19d3f3\", \"#FF6692\", \"#B6E880\", \"#FF97FF\", \"#FECB52\"], \"font\": {\"color\": \"#2a3f5f\"}, \"geo\": {\"bgcolor\": \"white\", \"lakecolor\": \"white\", \"landcolor\": \"#E5ECF6\", \"showlakes\": true, \"showland\": true, \"subunitcolor\": \"white\"}, \"hoverlabel\": {\"align\": \"left\"}, \"hovermode\": \"closest\", \"mapbox\": {\"style\": \"light\"}, \"paper_bgcolor\": \"white\", \"plot_bgcolor\": \"#E5ECF6\", \"polar\": {\"angularaxis\": {\"gridcolor\": \"white\", \"linecolor\": \"white\", \"ticks\": \"\"}, \"bgcolor\": \"#E5ECF6\", \"radialaxis\": {\"gridcolor\": \"white\", \"linecolor\": \"white\", \"ticks\": \"\"}}, \"scene\": {\"xaxis\": {\"backgroundcolor\": \"#E5ECF6\", \"gridcolor\": \"white\", \"gridwidth\": 2, \"linecolor\": \"white\", \"showbackground\": true, \"ticks\": \"\", \"zerolinecolor\": \"white\"}, \"yaxis\": {\"backgroundcolor\": \"#E5ECF6\", \"gridcolor\": \"white\", \"gridwidth\": 2, \"linecolor\": \"white\", \"showbackground\": true, \"ticks\": \"\", \"zerolinecolor\": \"white\"}, \"zaxis\": {\"backgroundcolor\": \"#E5ECF6\", \"gridcolor\": \"white\", \"gridwidth\": 2, \"linecolor\": \"white\", \"showbackground\": true, \"ticks\": \"\", \"zerolinecolor\": \"white\"}}, \"shapedefaults\": {\"line\": {\"color\": \"#2a3f5f\"}}, \"ternary\": {\"aaxis\": {\"gridcolor\": \"white\", \"linecolor\": \"white\", \"ticks\": \"\"}, \"baxis\": {\"gridcolor\": \"white\", \"linecolor\": \"white\", \"ticks\": \"\"}, \"bgcolor\": \"#E5ECF6\", \"caxis\": {\"gridcolor\": \"white\", \"linecolor\": \"white\", \"ticks\": \"\"}}, \"title\": {\"x\": 0.05}, \"xaxis\": {\"automargin\": true, \"gridcolor\": \"white\", \"linecolor\": \"white\", \"ticks\": \"\", \"title\": {\"standoff\": 15}, \"zerolinecolor\": \"white\", \"zerolinewidth\": 2}, \"yaxis\": {\"automargin\": true, \"gridcolor\": \"white\", \"linecolor\": \"white\", \"ticks\": \"\", \"title\": {\"standoff\": 15}, \"zerolinecolor\": \"white\", \"zerolinewidth\": 2}}}, \"title\": {\"text\": \"Hair colour Distribution\"}, \"xaxis\": {\"anchor\": \"y\", \"domain\": [0.0, 1.0], \"title\": {\"text\": \"Hair colour\"}}, \"yaxis\": {\"anchor\": \"x\", \"domain\": [0.0, 1.0], \"title\": {\"text\": \"count\"}}},                        {\"responsive\": true}                    ).then(function(){\n",
              "                            \n",
              "var gd = document.getElementById('86083f7c-03f7-4929-af0f-ecddc0bca181');\n",
              "var x = new MutationObserver(function (mutations, observer) {{\n",
              "        var display = window.getComputedStyle(gd).display;\n",
              "        if (!display || display === 'none') {{\n",
              "            console.log([gd, 'removed!']);\n",
              "            Plotly.purge(gd);\n",
              "            observer.disconnect();\n",
              "        }}\n",
              "}});\n",
              "\n",
              "// Listen for the removal of the full notebook cells\n",
              "var notebookContainer = gd.closest('#notebook-container');\n",
              "if (notebookContainer) {{\n",
              "    x.observe(notebookContainer, {childList: true});\n",
              "}}\n",
              "\n",
              "// Listen for the clearing of the current output cell\n",
              "var outputEl = gd.closest('.output');\n",
              "if (outputEl) {{\n",
              "    x.observe(outputEl, {childList: true});\n",
              "}}\n",
              "\n",
              "                        })                };                            </script>        </div>\n",
              "</body>\n",
              "</html>"
            ]
          },
          "metadata": {
            "tags": []
          }
        }
      ]
    },
    {
      "cell_type": "markdown",
      "metadata": {
        "id": "i4WRZXQ6BcbB"
      },
      "source": [
        "Most of characters here in Harry Potter have Black hair."
      ]
    },
    {
      "cell_type": "markdown",
      "metadata": {
        "id": "DFqBgpjf7xGW"
      },
      "source": [
        "# Eye Color"
      ]
    },
    {
      "cell_type": "code",
      "metadata": {
        "colab": {
          "base_uri": "https://localhost:8080/",
          "height": 542
        },
        "id": "zxOpKfYKBAf2",
        "outputId": "143c0718-83e2-4936-b62a-b895a1ff8afe"
      },
      "source": [
        "fig = px.histogram(modifieddf, x='Eye colour', title='Eye colour Distribution', nbins=36)\n",
        "fig.show()"
      ],
      "execution_count": 12,
      "outputs": [
        {
          "output_type": "display_data",
          "data": {
            "text/html": [
              "<html>\n",
              "<head><meta charset=\"utf-8\" /></head>\n",
              "<body>\n",
              "    <div>            <script src=\"https://cdnjs.cloudflare.com/ajax/libs/mathjax/2.7.5/MathJax.js?config=TeX-AMS-MML_SVG\"></script><script type=\"text/javascript\">if (window.MathJax) {MathJax.Hub.Config({SVG: {font: \"STIX-Web\"}});}</script>                <script type=\"text/javascript\">window.PlotlyConfig = {MathJaxConfig: 'local'};</script>\n",
              "        <script src=\"https://cdn.plot.ly/plotly-latest.min.js\"></script>                <div id=\"7d0c8838-3b61-4a0b-9501-7fd30932a923\" class=\"plotly-graph-div\" style=\"height:525px; width:100%;\"></div>            <script type=\"text/javascript\">                                    window.PLOTLYENV=window.PLOTLYENV || {};                                    if (document.getElementById(\"7d0c8838-3b61-4a0b-9501-7fd30932a923\")) {                    Plotly.newPlot(                        \"7d0c8838-3b61-4a0b-9501-7fd30932a923\",                        [{\"alignmentgroup\": \"True\", \"bingroup\": \"x\", \"hovertemplate\": \"Eye colour=%{x}<br>count=%{y}<extra></extra>\", \"legendgroup\": \"\", \"marker\": {\"color\": \"#636efa\"}, \"name\": \"\", \"nbinsx\": 36, \"offsetgroup\": \"\", \"orientation\": \"v\", \"showlegend\": false, \"type\": \"histogram\", \"x\": [\"Bright green\", \"Blue\", \"Brown\", \"Blue\", \"Black\", \" \", \"Brown\", \"Brown\", \"Bright brown\", \"Brown\", \" \", \"Bright green\", \"Hazel\", \"Grey\", \"Green\", \"Blue\", \"Blue\", \"Blue\", \"Grey\", \"Brown\", \" \", \"Brown\", \"Brown\", \"Brown\", \"Blue\", \"Dark\", \"Dark\", \" \", \" \", \"Green\", \"Bright brown\", \"Green\", \" \", \"Dark\", \"Pale silvery\", \"Blue\", \" \", \" \", \"Silvery\", \" \", \"Dark\", \"Brown\", \"Grey\", \" \", \"Grey\", \"Black\", \"Grey\", \"Black\", \" \", \" \", \" \", \"Gooseberry\", \"Grey\", \"Blue\", \" \", \" \", \"Brown\", \"Scarlet\\u00a0\", \" \", \"Dark\", \" \", \"Brown\", \" \", \" \", \" \", \"Dark\", \"Dark\", \"Dark\", \"Green\", \"Dark\", \" \", \"Black\", \"Pale, freckled\", \" \", \"Astonishingly blue\", \" \", \" \", \"Blue\", \" \", \"Grey\", \"Variable\", \"Grey\", \"Blue\", \"Grey\", \" \", \" \", \"Brown\", \" \", \" \", \" \", \" \", \" \", \"Blue\", \" \", \"Black\", \"One dark,\\u00a0one electric blue\", \" \", \" \", \"Yellowish\", \" \", \" \", \"Ruddy\", \" \", \"Grey/Blue[\", \"Dark blue[\", \"Bright Blue\", \"Brown\", \"Brown\", \" \", \"Brown\", \"Grey\", \"Dark Grey\", \" \", \"Grey\", \"Brown\", \"Black\", \"Black\", \" \", \"Dark\", \" \", \" \", \"Blue\", \" \", \" \", \"Bright green\", \"Grey\", \"Variable\", \" \", \" \", \"Pale\", \" \", \"Yellow\", \" \", \"Dark\", \" \", \" \", \" \", \"Blue\", \" \", \" \"], \"xaxis\": \"x\", \"yaxis\": \"y\"}],                        {\"barmode\": \"relative\", \"legend\": {\"tracegroupgap\": 0}, \"template\": {\"data\": {\"bar\": [{\"error_x\": {\"color\": \"#2a3f5f\"}, \"error_y\": {\"color\": \"#2a3f5f\"}, \"marker\": {\"line\": {\"color\": \"#E5ECF6\", \"width\": 0.5}}, \"type\": \"bar\"}], \"barpolar\": [{\"marker\": {\"line\": {\"color\": \"#E5ECF6\", \"width\": 0.5}}, \"type\": \"barpolar\"}], \"carpet\": [{\"aaxis\": {\"endlinecolor\": \"#2a3f5f\", \"gridcolor\": \"white\", \"linecolor\": \"white\", \"minorgridcolor\": \"white\", \"startlinecolor\": \"#2a3f5f\"}, \"baxis\": {\"endlinecolor\": \"#2a3f5f\", \"gridcolor\": \"white\", \"linecolor\": \"white\", \"minorgridcolor\": \"white\", \"startlinecolor\": \"#2a3f5f\"}, \"type\": \"carpet\"}], \"choropleth\": [{\"colorbar\": {\"outlinewidth\": 0, \"ticks\": \"\"}, \"type\": \"choropleth\"}], \"contour\": [{\"colorbar\": {\"outlinewidth\": 0, \"ticks\": \"\"}, \"colorscale\": [[0.0, \"#0d0887\"], [0.1111111111111111, \"#46039f\"], [0.2222222222222222, \"#7201a8\"], [0.3333333333333333, \"#9c179e\"], [0.4444444444444444, \"#bd3786\"], [0.5555555555555556, \"#d8576b\"], [0.6666666666666666, \"#ed7953\"], [0.7777777777777778, \"#fb9f3a\"], [0.8888888888888888, \"#fdca26\"], [1.0, \"#f0f921\"]], \"type\": \"contour\"}], \"contourcarpet\": [{\"colorbar\": {\"outlinewidth\": 0, \"ticks\": \"\"}, \"type\": \"contourcarpet\"}], \"heatmap\": [{\"colorbar\": {\"outlinewidth\": 0, \"ticks\": \"\"}, \"colorscale\": [[0.0, \"#0d0887\"], [0.1111111111111111, \"#46039f\"], [0.2222222222222222, \"#7201a8\"], [0.3333333333333333, \"#9c179e\"], [0.4444444444444444, \"#bd3786\"], [0.5555555555555556, \"#d8576b\"], [0.6666666666666666, \"#ed7953\"], [0.7777777777777778, \"#fb9f3a\"], [0.8888888888888888, \"#fdca26\"], [1.0, \"#f0f921\"]], \"type\": \"heatmap\"}], \"heatmapgl\": [{\"colorbar\": {\"outlinewidth\": 0, \"ticks\": \"\"}, \"colorscale\": [[0.0, \"#0d0887\"], [0.1111111111111111, \"#46039f\"], [0.2222222222222222, \"#7201a8\"], [0.3333333333333333, \"#9c179e\"], [0.4444444444444444, \"#bd3786\"], [0.5555555555555556, \"#d8576b\"], [0.6666666666666666, \"#ed7953\"], [0.7777777777777778, \"#fb9f3a\"], [0.8888888888888888, \"#fdca26\"], [1.0, \"#f0f921\"]], \"type\": \"heatmapgl\"}], \"histogram\": [{\"marker\": {\"colorbar\": {\"outlinewidth\": 0, \"ticks\": \"\"}}, \"type\": \"histogram\"}], \"histogram2d\": [{\"colorbar\": {\"outlinewidth\": 0, \"ticks\": \"\"}, \"colorscale\": [[0.0, \"#0d0887\"], [0.1111111111111111, \"#46039f\"], [0.2222222222222222, \"#7201a8\"], [0.3333333333333333, \"#9c179e\"], [0.4444444444444444, \"#bd3786\"], [0.5555555555555556, \"#d8576b\"], [0.6666666666666666, \"#ed7953\"], [0.7777777777777778, \"#fb9f3a\"], [0.8888888888888888, \"#fdca26\"], [1.0, \"#f0f921\"]], \"type\": \"histogram2d\"}], \"histogram2dcontour\": [{\"colorbar\": {\"outlinewidth\": 0, \"ticks\": \"\"}, \"colorscale\": [[0.0, \"#0d0887\"], [0.1111111111111111, \"#46039f\"], [0.2222222222222222, \"#7201a8\"], [0.3333333333333333, \"#9c179e\"], [0.4444444444444444, \"#bd3786\"], [0.5555555555555556, \"#d8576b\"], [0.6666666666666666, \"#ed7953\"], [0.7777777777777778, \"#fb9f3a\"], [0.8888888888888888, \"#fdca26\"], [1.0, \"#f0f921\"]], \"type\": \"histogram2dcontour\"}], \"mesh3d\": [{\"colorbar\": {\"outlinewidth\": 0, \"ticks\": \"\"}, \"type\": \"mesh3d\"}], \"parcoords\": [{\"line\": {\"colorbar\": {\"outlinewidth\": 0, \"ticks\": \"\"}}, \"type\": \"parcoords\"}], \"pie\": [{\"automargin\": true, \"type\": \"pie\"}], \"scatter\": [{\"marker\": {\"colorbar\": {\"outlinewidth\": 0, \"ticks\": \"\"}}, \"type\": \"scatter\"}], \"scatter3d\": [{\"line\": {\"colorbar\": {\"outlinewidth\": 0, \"ticks\": \"\"}}, \"marker\": {\"colorbar\": {\"outlinewidth\": 0, \"ticks\": \"\"}}, \"type\": \"scatter3d\"}], \"scattercarpet\": [{\"marker\": {\"colorbar\": {\"outlinewidth\": 0, \"ticks\": \"\"}}, \"type\": \"scattercarpet\"}], \"scattergeo\": [{\"marker\": {\"colorbar\": {\"outlinewidth\": 0, \"ticks\": \"\"}}, \"type\": \"scattergeo\"}], \"scattergl\": [{\"marker\": {\"colorbar\": {\"outlinewidth\": 0, \"ticks\": \"\"}}, \"type\": \"scattergl\"}], \"scattermapbox\": [{\"marker\": {\"colorbar\": {\"outlinewidth\": 0, \"ticks\": \"\"}}, \"type\": \"scattermapbox\"}], \"scatterpolar\": [{\"marker\": {\"colorbar\": {\"outlinewidth\": 0, \"ticks\": \"\"}}, \"type\": \"scatterpolar\"}], \"scatterpolargl\": [{\"marker\": {\"colorbar\": {\"outlinewidth\": 0, \"ticks\": \"\"}}, \"type\": \"scatterpolargl\"}], \"scatterternary\": [{\"marker\": {\"colorbar\": {\"outlinewidth\": 0, \"ticks\": \"\"}}, \"type\": \"scatterternary\"}], \"surface\": [{\"colorbar\": {\"outlinewidth\": 0, \"ticks\": \"\"}, \"colorscale\": [[0.0, \"#0d0887\"], [0.1111111111111111, \"#46039f\"], [0.2222222222222222, \"#7201a8\"], [0.3333333333333333, \"#9c179e\"], [0.4444444444444444, \"#bd3786\"], [0.5555555555555556, \"#d8576b\"], [0.6666666666666666, \"#ed7953\"], [0.7777777777777778, \"#fb9f3a\"], [0.8888888888888888, \"#fdca26\"], [1.0, \"#f0f921\"]], \"type\": \"surface\"}], \"table\": [{\"cells\": {\"fill\": {\"color\": \"#EBF0F8\"}, \"line\": {\"color\": \"white\"}}, \"header\": {\"fill\": {\"color\": \"#C8D4E3\"}, \"line\": {\"color\": \"white\"}}, \"type\": \"table\"}]}, \"layout\": {\"annotationdefaults\": {\"arrowcolor\": \"#2a3f5f\", \"arrowhead\": 0, \"arrowwidth\": 1}, \"autotypenumbers\": \"strict\", \"coloraxis\": {\"colorbar\": {\"outlinewidth\": 0, \"ticks\": \"\"}}, \"colorscale\": {\"diverging\": [[0, \"#8e0152\"], [0.1, \"#c51b7d\"], [0.2, \"#de77ae\"], [0.3, \"#f1b6da\"], [0.4, \"#fde0ef\"], [0.5, \"#f7f7f7\"], [0.6, \"#e6f5d0\"], [0.7, \"#b8e186\"], [0.8, \"#7fbc41\"], [0.9, \"#4d9221\"], [1, \"#276419\"]], \"sequential\": [[0.0, \"#0d0887\"], [0.1111111111111111, \"#46039f\"], [0.2222222222222222, \"#7201a8\"], [0.3333333333333333, \"#9c179e\"], [0.4444444444444444, \"#bd3786\"], [0.5555555555555556, \"#d8576b\"], [0.6666666666666666, \"#ed7953\"], [0.7777777777777778, \"#fb9f3a\"], [0.8888888888888888, \"#fdca26\"], [1.0, \"#f0f921\"]], \"sequentialminus\": [[0.0, \"#0d0887\"], [0.1111111111111111, \"#46039f\"], [0.2222222222222222, \"#7201a8\"], [0.3333333333333333, \"#9c179e\"], [0.4444444444444444, \"#bd3786\"], [0.5555555555555556, \"#d8576b\"], [0.6666666666666666, \"#ed7953\"], [0.7777777777777778, \"#fb9f3a\"], [0.8888888888888888, \"#fdca26\"], [1.0, \"#f0f921\"]]}, \"colorway\": [\"#636efa\", \"#EF553B\", \"#00cc96\", \"#ab63fa\", \"#FFA15A\", \"#19d3f3\", \"#FF6692\", \"#B6E880\", \"#FF97FF\", \"#FECB52\"], \"font\": {\"color\": \"#2a3f5f\"}, \"geo\": {\"bgcolor\": \"white\", \"lakecolor\": \"white\", \"landcolor\": \"#E5ECF6\", \"showlakes\": true, \"showland\": true, \"subunitcolor\": \"white\"}, \"hoverlabel\": {\"align\": \"left\"}, \"hovermode\": \"closest\", \"mapbox\": {\"style\": \"light\"}, \"paper_bgcolor\": \"white\", \"plot_bgcolor\": \"#E5ECF6\", \"polar\": {\"angularaxis\": {\"gridcolor\": \"white\", \"linecolor\": \"white\", \"ticks\": \"\"}, \"bgcolor\": \"#E5ECF6\", \"radialaxis\": {\"gridcolor\": \"white\", \"linecolor\": \"white\", \"ticks\": \"\"}}, \"scene\": {\"xaxis\": {\"backgroundcolor\": \"#E5ECF6\", \"gridcolor\": \"white\", \"gridwidth\": 2, \"linecolor\": \"white\", \"showbackground\": true, \"ticks\": \"\", \"zerolinecolor\": \"white\"}, \"yaxis\": {\"backgroundcolor\": \"#E5ECF6\", \"gridcolor\": \"white\", \"gridwidth\": 2, \"linecolor\": \"white\", \"showbackground\": true, \"ticks\": \"\", \"zerolinecolor\": \"white\"}, \"zaxis\": {\"backgroundcolor\": \"#E5ECF6\", \"gridcolor\": \"white\", \"gridwidth\": 2, \"linecolor\": \"white\", \"showbackground\": true, \"ticks\": \"\", \"zerolinecolor\": \"white\"}}, \"shapedefaults\": {\"line\": {\"color\": \"#2a3f5f\"}}, \"ternary\": {\"aaxis\": {\"gridcolor\": \"white\", \"linecolor\": \"white\", \"ticks\": \"\"}, \"baxis\": {\"gridcolor\": \"white\", \"linecolor\": \"white\", \"ticks\": \"\"}, \"bgcolor\": \"#E5ECF6\", \"caxis\": {\"gridcolor\": \"white\", \"linecolor\": \"white\", \"ticks\": \"\"}}, \"title\": {\"x\": 0.05}, \"xaxis\": {\"automargin\": true, \"gridcolor\": \"white\", \"linecolor\": \"white\", \"ticks\": \"\", \"title\": {\"standoff\": 15}, \"zerolinecolor\": \"white\", \"zerolinewidth\": 2}, \"yaxis\": {\"automargin\": true, \"gridcolor\": \"white\", \"linecolor\": \"white\", \"ticks\": \"\", \"title\": {\"standoff\": 15}, \"zerolinecolor\": \"white\", \"zerolinewidth\": 2}}}, \"title\": {\"text\": \"Eye colour Distribution\"}, \"xaxis\": {\"anchor\": \"y\", \"domain\": [0.0, 1.0], \"title\": {\"text\": \"Eye colour\"}}, \"yaxis\": {\"anchor\": \"x\", \"domain\": [0.0, 1.0], \"title\": {\"text\": \"count\"}}},                        {\"responsive\": true}                    ).then(function(){\n",
              "                            \n",
              "var gd = document.getElementById('7d0c8838-3b61-4a0b-9501-7fd30932a923');\n",
              "var x = new MutationObserver(function (mutations, observer) {{\n",
              "        var display = window.getComputedStyle(gd).display;\n",
              "        if (!display || display === 'none') {{\n",
              "            console.log([gd, 'removed!']);\n",
              "            Plotly.purge(gd);\n",
              "            observer.disconnect();\n",
              "        }}\n",
              "}});\n",
              "\n",
              "// Listen for the removal of the full notebook cells\n",
              "var notebookContainer = gd.closest('#notebook-container');\n",
              "if (notebookContainer) {{\n",
              "    x.observe(notebookContainer, {childList: true});\n",
              "}}\n",
              "\n",
              "// Listen for the clearing of the current output cell\n",
              "var outputEl = gd.closest('.output');\n",
              "if (outputEl) {{\n",
              "    x.observe(outputEl, {childList: true});\n",
              "}}\n",
              "\n",
              "                        })                };                            </script>        </div>\n",
              "</body>\n",
              "</html>"
            ]
          },
          "metadata": {
            "tags": []
          }
        }
      ]
    },
    {
      "cell_type": "markdown",
      "metadata": {
        "id": "wIj4VoEtCotH"
      },
      "source": [
        "Most of characters in Harry Potter do not have their there Eye color listed here. There are so many different eye colors."
      ]
    },
    {
      "cell_type": "code",
      "metadata": {
        "colab": {
          "base_uri": "https://localhost:8080/",
          "height": 817
        },
        "id": "ImmiisuWEmbY",
        "outputId": "51208cd0-37e4-4731-edd2-5a904e99deef"
      },
      "source": [
        "fig = px.scatter_3d(\n",
        "    modifieddf,\n",
        "    title='Hair color, Eye color, Price 3D Scatter Plot',\n",
        "    x=\"Eye colour\",\n",
        "    y=\"Hair colour\",\n",
        "    z=\"Name\",\n",
        "    color=\"Name\",\n",
        "    template='plotly_dark',\n",
        "    width=800,\n",
        "    height=800\n",
        ")\n",
        "fig.show()"
      ],
      "execution_count": 13,
      "outputs": [
        {
          "output_type": "display_data",
          "data": {
            "text/html": [
              "<html>\n",
              "<head><meta charset=\"utf-8\" /></head>\n",
              "<body>\n",
              "    <div>            <script src=\"https://cdnjs.cloudflare.com/ajax/libs/mathjax/2.7.5/MathJax.js?config=TeX-AMS-MML_SVG\"></script><script type=\"text/javascript\">if (window.MathJax) {MathJax.Hub.Config({SVG: {font: \"STIX-Web\"}});}</script>                <script type=\"text/javascript\">window.PlotlyConfig = {MathJaxConfig: 'local'};</script>\n",
              "        <script src=\"https://cdn.plot.ly/plotly-latest.min.js\"></script>                <div id=\"3189c12e-e615-45a4-99b9-cf0a2d458025\" class=\"plotly-graph-div\" style=\"height:800px; width:800px;\"></div>            <script type=\"text/javascript\">                                    window.PLOTLYENV=window.PLOTLYENV || {};                                    if (document.getElementById(\"3189c12e-e615-45a4-99b9-cf0a2d458025\")) {                    Plotly.newPlot(                        \"3189c12e-e615-45a4-99b9-cf0a2d458025\",                        [{\"hovertemplate\": \"Name=%{z}<br>Eye colour=%{x}<br>Hair colour=%{y}<extra></extra>\", \"legendgroup\": \"Harry James Potter\", \"marker\": {\"color\": \"#636efa\", \"symbol\": \"circle\"}, \"mode\": \"markers\", \"name\": \"Harry James Potter\", \"scene\": \"scene\", \"showlegend\": true, \"type\": \"scatter3d\", \"x\": [\"Bright green\"], \"y\": [\"Black\"], \"z\": [\"Harry James Potter\"]}, {\"hovertemplate\": \"Name=%{z}<br>Eye colour=%{x}<br>Hair colour=%{y}<extra></extra>\", \"legendgroup\": \"Ronald Bilius Weasley\", \"marker\": {\"color\": \"#EF553B\", \"symbol\": \"circle\"}, \"mode\": \"markers\", \"name\": \"Ronald Bilius Weasley\", \"scene\": \"scene\", \"showlegend\": true, \"type\": \"scatter3d\", \"x\": [\"Blue\"], \"y\": [\"Red\"], \"z\": [\"Ronald Bilius Weasley\"]}, {\"hovertemplate\": \"Name=%{z}<br>Eye colour=%{x}<br>Hair colour=%{y}<extra></extra>\", \"legendgroup\": \"Hermione Jean Granger\", \"marker\": {\"color\": \"#00cc96\", \"symbol\": \"circle\"}, \"mode\": \"markers\", \"name\": \"Hermione Jean Granger\", \"scene\": \"scene\", \"showlegend\": true, \"type\": \"scatter3d\", \"x\": [\"Brown\"], \"y\": [\"Brown\"], \"z\": [\"Hermione Jean Granger\"]}, {\"hovertemplate\": \"Name=%{z}<br>Eye colour=%{x}<br>Hair colour=%{y}<extra></extra>\", \"legendgroup\": \"Albus Percival Wulfric Brian Dumbledore\", \"marker\": {\"color\": \"#ab63fa\", \"symbol\": \"circle\"}, \"mode\": \"markers\", \"name\": \"Albus Percival Wulfric Brian Dumbledore\", \"scene\": \"scene\", \"showlegend\": true, \"type\": \"scatter3d\", \"x\": [\"Blue\"], \"y\": [\"Silver| formerly auburn\"], \"z\": [\"Albus Percival Wulfric Brian Dumbledore\"]}, {\"hovertemplate\": \"Name=%{z}<br>Eye colour=%{x}<br>Hair colour=%{y}<extra></extra>\", \"legendgroup\": \"Rubeus Hagrid\", \"marker\": {\"color\": \"#FFA15A\", \"symbol\": \"circle\"}, \"mode\": \"markers\", \"name\": \"Rubeus Hagrid\", \"scene\": \"scene\", \"showlegend\": true, \"type\": \"scatter3d\", \"x\": [\"Black\"], \"y\": [\"Black\"], \"z\": [\"Rubeus Hagrid\"]}, {\"hovertemplate\": \"Name=%{z}<br>Eye colour=%{x}<br>Hair colour=%{y}<extra></extra>\", \"legendgroup\": \"Neville Longbottom\", \"marker\": {\"color\": \"#19d3f3\", \"symbol\": \"circle\"}, \"mode\": \"markers\", \"name\": \"Neville Longbottom\", \"scene\": \"scene\", \"showlegend\": true, \"type\": \"scatter3d\", \"x\": [\" \"], \"y\": [\"Blond\"], \"z\": [\"Neville Longbottom\"]}, {\"hovertemplate\": \"Name=%{z}<br>Eye colour=%{x}<br>Hair colour=%{y}<extra></extra>\", \"legendgroup\": \"Fred Weasley\", \"marker\": {\"color\": \"#FF6692\", \"symbol\": \"circle\"}, \"mode\": \"markers\", \"name\": \"Fred Weasley\", \"scene\": \"scene\", \"showlegend\": true, \"type\": \"scatter3d\", \"x\": [\"Brown\"], \"y\": [\"Red\"], \"z\": [\"Fred Weasley\"]}, {\"hovertemplate\": \"Name=%{z}<br>Eye colour=%{x}<br>Hair colour=%{y}<extra></extra>\", \"legendgroup\": \"George Weasley\", \"marker\": {\"color\": \"#B6E880\", \"symbol\": \"circle\"}, \"mode\": \"markers\", \"name\": \"George Weasley\", \"scene\": \"scene\", \"showlegend\": true, \"type\": \"scatter3d\", \"x\": [\"Brown\"], \"y\": [\"Red\"], \"z\": [\"George Weasley\"]}, {\"hovertemplate\": \"Name=%{z}<br>Eye colour=%{x}<br>Hair colour=%{y}<extra></extra>\", \"legendgroup\": \"Ginevra (Ginny) Molly Weasley\", \"marker\": {\"color\": \"#FF97FF\", \"symbol\": \"circle\"}, \"mode\": \"markers\", \"name\": \"Ginevra (Ginny) Molly Weasley\", \"scene\": \"scene\", \"showlegend\": true, \"type\": \"scatter3d\", \"x\": [\"Bright brown\"], \"y\": [\"Red\"], \"z\": [\"Ginevra (Ginny) Molly Weasley\"]}, {\"hovertemplate\": \"Name=%{z}<br>Eye colour=%{x}<br>Hair colour=%{y}<extra></extra>\", \"legendgroup\": \"Dean Thomas\", \"marker\": {\"color\": \"#FECB52\", \"symbol\": \"circle\"}, \"mode\": \"markers\", \"name\": \"Dean Thomas\", \"scene\": \"scene\", \"showlegend\": true, \"type\": \"scatter3d\", \"x\": [\"Brown\"], \"y\": [\"Black\"], \"z\": [\"Dean Thomas\"]}, {\"hovertemplate\": \"Name=%{z}<br>Eye colour=%{x}<br>Hair colour=%{y}<extra></extra>\", \"legendgroup\": \"Seamus Finnigan\", \"marker\": {\"color\": \"#636efa\", \"symbol\": \"circle\"}, \"mode\": \"markers\", \"name\": \"Seamus Finnigan\", \"scene\": \"scene\", \"showlegend\": true, \"type\": \"scatter3d\", \"x\": [\" \"], \"y\": [\"Sandy\"], \"z\": [\"Seamus Finnigan\"]}, {\"hovertemplate\": \"Name=%{z}<br>Eye colour=%{x}<br>Hair colour=%{y}<extra></extra>\", \"legendgroup\": \"Lily J. Potter\", \"marker\": {\"color\": \"#EF553B\", \"symbol\": \"circle\"}, \"mode\": \"markers\", \"name\": \"Lily J. Potter\", \"scene\": \"scene\", \"showlegend\": true, \"type\": \"scatter3d\", \"x\": [\"Bright green\"], \"y\": [\"Auburn\"], \"z\": [\"Lily J. Potter\"]}, {\"hovertemplate\": \"Name=%{z}<br>Eye colour=%{x}<br>Hair colour=%{y}<extra></extra>\", \"legendgroup\": \"James Potter\", \"marker\": {\"color\": \"#00cc96\", \"symbol\": \"circle\"}, \"mode\": \"markers\", \"name\": \"James Potter\", \"scene\": \"scene\", \"showlegend\": true, \"type\": \"scatter3d\", \"x\": [\"Hazel\"], \"y\": [\"Black\"], \"z\": [\"James Potter\"]}, {\"hovertemplate\": \"Name=%{z}<br>Eye colour=%{x}<br>Hair colour=%{y}<extra></extra>\", \"legendgroup\": \"Sirius Black\", \"marker\": {\"color\": \"#ab63fa\", \"symbol\": \"circle\"}, \"mode\": \"markers\", \"name\": \"Sirius Black\", \"scene\": \"scene\", \"showlegend\": true, \"type\": \"scatter3d\", \"x\": [\"Grey\"], \"y\": [\"Black\"], \"z\": [\"Sirius Black\"]}, {\"hovertemplate\": \"Name=%{z}<br>Eye colour=%{x}<br>Hair colour=%{y}<extra></extra>\", \"legendgroup\": \"Remus John Lupin\", \"marker\": {\"color\": \"#FFA15A\", \"symbol\": \"circle\"}, \"mode\": \"markers\", \"name\": \"Remus John Lupin\", \"scene\": \"scene\", \"showlegend\": true, \"type\": \"scatter3d\", \"x\": [\"Green\"], \"y\": [\"Light brown flecked with grey\"], \"z\": [\"Remus John Lupin\"]}, {\"hovertemplate\": \"Name=%{z}<br>Eye colour=%{x}<br>Hair colour=%{y}<extra></extra>\", \"legendgroup\": \"Peter Pettigrew\", \"marker\": {\"color\": \"#19d3f3\", \"symbol\": \"circle\"}, \"mode\": \"markers\", \"name\": \"Peter Pettigrew\", \"scene\": \"scene\", \"showlegend\": true, \"type\": \"scatter3d\", \"x\": [\"Blue\"], \"y\": [\"Colourless and balding\"], \"z\": [\"Peter Pettigrew\"]}, {\"hovertemplate\": \"Name=%{z}<br>Eye colour=%{x}<br>Hair colour=%{y}<extra></extra>\", \"legendgroup\": \"Percy Ignatius Weasley\", \"marker\": {\"color\": \"#FF6692\", \"symbol\": \"circle\"}, \"mode\": \"markers\", \"name\": \"Percy Ignatius Weasley\", \"scene\": \"scene\", \"showlegend\": true, \"type\": \"scatter3d\", \"x\": [\"Blue\"], \"y\": [\"Red\"], \"z\": [\"Percy Ignatius Weasley\"]}, {\"hovertemplate\": \"Name=%{z}<br>Eye colour=%{x}<br>Hair colour=%{y}<extra></extra>\", \"legendgroup\": \"(Bill) William Arthur Weasley\", \"marker\": {\"color\": \"#B6E880\", \"symbol\": \"circle\"}, \"mode\": \"markers\", \"name\": \"(Bill) William Arthur Weasley\", \"scene\": \"scene\", \"showlegend\": true, \"type\": \"scatter3d\", \"x\": [\"Blue\"], \"y\": [\"Red\"], \"z\": [\"(Bill) William Arthur Weasley\"]}, {\"hovertemplate\": \"Name=%{z}<br>Eye colour=%{x}<br>Hair colour=%{y}<extra></extra>\", \"legendgroup\": \"Charles Weasley\", \"marker\": {\"color\": \"#FF97FF\", \"symbol\": \"circle\"}, \"mode\": \"markers\", \"name\": \"Charles Weasley\", \"scene\": \"scene\", \"showlegend\": true, \"type\": \"scatter3d\", \"x\": [\"Grey\"], \"y\": [\"Red\"], \"z\": [\"Charles Weasley\"]}, {\"hovertemplate\": \"Name=%{z}<br>Eye colour=%{x}<br>Hair colour=%{y}<extra></extra>\", \"legendgroup\": \"Lee Jordan\\u00a0\", \"marker\": {\"color\": \"#FECB52\", \"symbol\": \"circle\"}, \"mode\": \"markers\", \"name\": \"Lee Jordan\\u00a0\", \"scene\": \"scene\", \"showlegend\": true, \"type\": \"scatter3d\", \"x\": [\"Brown\"], \"y\": [\"Black\"], \"z\": [\"Lee Jordan\\u00a0\"]}, {\"hovertemplate\": \"Name=%{z}<br>Eye colour=%{x}<br>Hair colour=%{y}<extra></extra>\", \"legendgroup\": \"Oliver Wood\", \"marker\": {\"color\": \"#636efa\", \"symbol\": \"circle\"}, \"mode\": \"markers\", \"name\": \"Oliver Wood\", \"scene\": \"scene\", \"showlegend\": true, \"type\": \"scatter3d\", \"x\": [\" \"], \"y\": [\" \"], \"z\": [\"Oliver Wood\"]}, {\"hovertemplate\": \"Name=%{z}<br>Eye colour=%{x}<br>Hair colour=%{y}<extra></extra>\", \"legendgroup\": \"Angelina Johnson\", \"marker\": {\"color\": \"#EF553B\", \"symbol\": \"circle\"}, \"mode\": \"markers\", \"name\": \"Angelina Johnson\", \"scene\": \"scene\", \"showlegend\": true, \"type\": \"scatter3d\", \"x\": [\"Brown\"], \"y\": [\"Brown\"], \"z\": [\"Angelina Johnson\"]}, {\"hovertemplate\": \"Name=%{z}<br>Eye colour=%{x}<br>Hair colour=%{y}<extra></extra>\", \"legendgroup\": \"Katie Bell\", \"marker\": {\"color\": \"#00cc96\", \"symbol\": \"circle\"}, \"mode\": \"markers\", \"name\": \"Katie Bell\", \"scene\": \"scene\", \"showlegend\": true, \"type\": \"scatter3d\", \"x\": [\"Brown\"], \"y\": [\"Brown\"], \"z\": [\"Katie Bell\"]}, {\"hovertemplate\": \"Name=%{z}<br>Eye colour=%{x}<br>Hair colour=%{y}<extra></extra>\", \"legendgroup\": \"Alicia Spinnet\", \"marker\": {\"color\": \"#ab63fa\", \"symbol\": \"circle\"}, \"mode\": \"markers\", \"name\": \"Alicia Spinnet\", \"scene\": \"scene\", \"showlegend\": true, \"type\": \"scatter3d\", \"x\": [\"Brown\"], \"y\": [\"Brown\"], \"z\": [\"Alicia Spinnet\"]}, {\"hovertemplate\": \"Name=%{z}<br>Eye colour=%{x}<br>Hair colour=%{y}<extra></extra>\", \"legendgroup\": \"Lavender Brown\", \"marker\": {\"color\": \"#FFA15A\", \"symbol\": \"circle\"}, \"mode\": \"markers\", \"name\": \"Lavender Brown\", \"scene\": \"scene\", \"showlegend\": true, \"type\": \"scatter3d\", \"x\": [\"Blue\"], \"y\": [\"Blond\"], \"z\": [\"Lavender Brown\"]}, {\"hovertemplate\": \"Name=%{z}<br>Eye colour=%{x}<br>Hair colour=%{y}<extra></extra>\", \"legendgroup\": \"Parvati Patil\", \"marker\": {\"color\": \"#19d3f3\", \"symbol\": \"circle\"}, \"mode\": \"markers\", \"name\": \"Parvati Patil\", \"scene\": \"scene\", \"showlegend\": true, \"type\": \"scatter3d\", \"x\": [\"Dark\"], \"y\": [\"Dark\"], \"z\": [\"Parvati Patil\"]}, {\"hovertemplate\": \"Name=%{z}<br>Eye colour=%{x}<br>Hair colour=%{y}<extra></extra>\", \"legendgroup\": \"Romilda Vane\", \"marker\": {\"color\": \"#FF6692\", \"symbol\": \"circle\"}, \"mode\": \"markers\", \"name\": \"Romilda Vane\", \"scene\": \"scene\", \"showlegend\": true, \"type\": \"scatter3d\", \"x\": [\"Dark\"], \"y\": [\"Black\"], \"z\": [\"Romilda Vane\"]}, {\"hovertemplate\": \"Name=%{z}<br>Eye colour=%{x}<br>Hair colour=%{y}<extra></extra>\", \"legendgroup\": \"Colin Creevey\", \"marker\": {\"color\": \"#B6E880\", \"symbol\": \"circle\"}, \"mode\": \"markers\", \"name\": \"Colin Creevey\", \"scene\": \"scene\", \"showlegend\": true, \"type\": \"scatter3d\", \"x\": [\" \"], \"y\": [\"Mousy\"], \"z\": [\"Colin Creevey\"]}, {\"hovertemplate\": \"Name=%{z}<br>Eye colour=%{x}<br>Hair colour=%{y}<extra></extra>\", \"legendgroup\": \"Cormac McLaggen\", \"marker\": {\"color\": \"#FF97FF\", \"symbol\": \"circle\"}, \"mode\": \"markers\", \"name\": \"Cormac McLaggen\", \"scene\": \"scene\", \"showlegend\": true, \"type\": \"scatter3d\", \"x\": [\" \"], \"y\": [\"Blond\"], \"z\": [\"Cormac McLaggen\"]}, {\"hovertemplate\": \"Name=%{z}<br>Eye colour=%{x}<br>Hair colour=%{y}<extra></extra>\", \"legendgroup\": \"Minerva McGonagall\", \"marker\": {\"color\": \"#FECB52\", \"symbol\": \"circle\"}, \"mode\": \"markers\", \"name\": \"Minerva McGonagall\", \"scene\": \"scene\", \"showlegend\": true, \"type\": \"scatter3d\", \"x\": [\"Green\"], \"y\": [\"Black\"], \"z\": [\"Minerva McGonagall\"]}, {\"hovertemplate\": \"Name=%{z}<br>Eye colour=%{x}<br>Hair colour=%{y}<extra></extra>\", \"legendgroup\": \"Molly Weasley\", \"marker\": {\"color\": \"#636efa\", \"symbol\": \"circle\"}, \"mode\": \"markers\", \"name\": \"Molly Weasley\", \"scene\": \"scene\", \"showlegend\": true, \"type\": \"scatter3d\", \"x\": [\"Bright brown\"], \"y\": [\"Red\"], \"z\": [\"Molly Weasley\"]}, {\"hovertemplate\": \"Name=%{z}<br>Eye colour=%{x}<br>Hair colour=%{y}<extra></extra>\", \"legendgroup\": \"Arthur Weasley\", \"marker\": {\"color\": \"#EF553B\", \"symbol\": \"circle\"}, \"mode\": \"markers\", \"name\": \"Arthur Weasley\", \"scene\": \"scene\", \"showlegend\": true, \"type\": \"scatter3d\", \"x\": [\"Green\"], \"y\": [\"Red\"], \"z\": [\"Arthur Weasley\"]}, {\"hovertemplate\": \"Name=%{z}<br>Eye colour=%{x}<br>Hair colour=%{y}<extra></extra>\", \"legendgroup\": \"Quirinus Quirrell\", \"marker\": {\"color\": \"#00cc96\", \"symbol\": \"circle\"}, \"mode\": \"markers\", \"name\": \"Quirinus Quirrell\", \"scene\": \"scene\", \"showlegend\": true, \"type\": \"scatter3d\", \"x\": [\" \"], \"y\": [\" \"], \"z\": [\"Quirinus Quirrell\"]}, {\"hovertemplate\": \"Name=%{z}<br>Eye colour=%{x}<br>Hair colour=%{y}<extra></extra>\", \"legendgroup\": \"Cho Chang\", \"marker\": {\"color\": \"#ab63fa\", \"symbol\": \"circle\"}, \"mode\": \"markers\", \"name\": \"Cho Chang\", \"scene\": \"scene\", \"showlegend\": true, \"type\": \"scatter3d\", \"x\": [\"Dark\"], \"y\": [\"Black\"], \"z\": [\"Cho Chang\"]}, {\"hovertemplate\": \"Name=%{z}<br>Eye colour=%{x}<br>Hair colour=%{y}<extra></extra>\", \"legendgroup\": \"Luna Lovegood\", \"marker\": {\"color\": \"#FFA15A\", \"symbol\": \"circle\"}, \"mode\": \"markers\", \"name\": \"Luna Lovegood\", \"scene\": \"scene\", \"showlegend\": true, \"type\": \"scatter3d\", \"x\": [\"Pale silvery\"], \"y\": [\"Dirty-blonde\"], \"z\": [\"Luna Lovegood\"]}, {\"hovertemplate\": \"Name=%{z}<br>Eye colour=%{x}<br>Hair colour=%{y}<extra></extra>\", \"legendgroup\": \"Gilderoy Lockhart\", \"marker\": {\"color\": \"#19d3f3\", \"symbol\": \"circle\"}, \"mode\": \"markers\", \"name\": \"Gilderoy Lockhart\", \"scene\": \"scene\", \"showlegend\": true, \"type\": \"scatter3d\", \"x\": [\"Blue\"], \"y\": [\"Blond\"], \"z\": [\"Gilderoy Lockhart\"]}, {\"hovertemplate\": \"Name=%{z}<br>Eye colour=%{x}<br>Hair colour=%{y}<extra></extra>\", \"legendgroup\": \"Filius Flitwick\", \"marker\": {\"color\": \"#FF6692\", \"symbol\": \"circle\"}, \"mode\": \"markers\", \"name\": \"Filius Flitwick\", \"scene\": \"scene\", \"showlegend\": true, \"type\": \"scatter3d\", \"x\": [\" \"], \"y\": [\"White\"], \"z\": [\"Filius Flitwick\"]}, {\"hovertemplate\": \"Name=%{z}<br>Eye colour=%{x}<br>Hair colour=%{y}<extra></extra>\", \"legendgroup\": \"Sybill Patricia Trelawney\", \"marker\": {\"color\": \"#B6E880\", \"symbol\": \"circle\"}, \"mode\": \"markers\", \"name\": \"Sybill Patricia Trelawney\", \"scene\": \"scene\", \"showlegend\": true, \"type\": \"scatter3d\", \"x\": [\" \"], \"y\": [\" \"], \"z\": [\"Sybill Patricia Trelawney\"]}, {\"hovertemplate\": \"Name=%{z}<br>Eye colour=%{x}<br>Hair colour=%{y}<extra></extra>\", \"legendgroup\": \"Garrick Ollivander\", \"marker\": {\"color\": \"#FF97FF\", \"symbol\": \"circle\"}, \"mode\": \"markers\", \"name\": \"Garrick Ollivander\", \"scene\": \"scene\", \"showlegend\": true, \"type\": \"scatter3d\", \"x\": [\"Silvery\"], \"y\": [\" \"], \"z\": [\"Garrick Ollivander\"]}, {\"hovertemplate\": \"Name=%{z}<br>Eye colour=%{x}<br>Hair colour=%{y}<extra></extra>\", \"legendgroup\": \"Myrtle Elizabeth Warren (Moaning Myrtle)\", \"marker\": {\"color\": \"#FECB52\", \"symbol\": \"circle\"}, \"mode\": \"markers\", \"name\": \"Myrtle Elizabeth Warren (Moaning Myrtle)\", \"scene\": \"scene\", \"showlegend\": true, \"type\": \"scatter3d\", \"x\": [\" \"], \"y\": [\" \"], \"z\": [\"Myrtle Elizabeth Warren (Moaning Myrtle)\"]}, {\"hovertemplate\": \"Name=%{z}<br>Eye colour=%{x}<br>Hair colour=%{y}<extra></extra>\", \"legendgroup\": \"Padma Patil\", \"marker\": {\"color\": \"#636efa\", \"symbol\": \"circle\"}, \"mode\": \"markers\", \"name\": \"Padma Patil\", \"scene\": \"scene\", \"showlegend\": true, \"type\": \"scatter3d\", \"x\": [\"Dark\"], \"y\": [\"Dark\"], \"z\": [\"Padma Patil\"]}, {\"hovertemplate\": \"Name=%{z}<br>Eye colour=%{x}<br>Hair colour=%{y}<extra></extra>\", \"legendgroup\": \"Michael Corner\", \"marker\": {\"color\": \"#EF553B\", \"symbol\": \"circle\"}, \"mode\": \"markers\", \"name\": \"Michael Corner\", \"scene\": \"scene\", \"showlegend\": true, \"type\": \"scatter3d\", \"x\": [\"Brown\"], \"y\": [\"Black\"], \"z\": [\"Michael Corner\"]}, {\"hovertemplate\": \"Name=%{z}<br>Eye colour=%{x}<br>Hair colour=%{y}<extra></extra>\", \"legendgroup\": \"Marietta Edgecombe\", \"marker\": {\"color\": \"#00cc96\", \"symbol\": \"circle\"}, \"mode\": \"markers\", \"name\": \"Marietta Edgecombe\", \"scene\": \"scene\", \"showlegend\": true, \"type\": \"scatter3d\", \"x\": [\"Grey\"], \"y\": [\"Reddish-blonde\"], \"z\": [\"Marietta Edgecombe\"]}, {\"hovertemplate\": \"Name=%{z}<br>Eye colour=%{x}<br>Hair colour=%{y}<extra></extra>\", \"legendgroup\": \"Terry Boot\", \"marker\": {\"color\": \"#ab63fa\", \"symbol\": \"circle\"}, \"mode\": \"markers\", \"name\": \"Terry Boot\", \"scene\": \"scene\", \"showlegend\": true, \"type\": \"scatter3d\", \"x\": [\" \"], \"y\": [\" \"], \"z\": [\"Terry Boot\"]}, {\"hovertemplate\": \"Name=%{z}<br>Eye colour=%{x}<br>Hair colour=%{y}<extra></extra>\", \"legendgroup\": \"Anthony Goldstein\", \"marker\": {\"color\": \"#FFA15A\", \"symbol\": \"circle\"}, \"mode\": \"markers\", \"name\": \"Anthony Goldstein\", \"scene\": \"scene\", \"showlegend\": true, \"type\": \"scatter3d\", \"x\": [\"Grey\"], \"y\": [\"Blonde\"], \"z\": [\"Anthony Goldstein\"]}, {\"hovertemplate\": \"Name=%{z}<br>Eye colour=%{x}<br>Hair colour=%{y}<extra></extra>\", \"legendgroup\": \"Severus Snape\", \"marker\": {\"color\": \"#19d3f3\", \"symbol\": \"circle\"}, \"mode\": \"markers\", \"name\": \"Severus Snape\", \"scene\": \"scene\", \"showlegend\": true, \"type\": \"scatter3d\", \"x\": [\"Black\"], \"y\": [\"Black\"], \"z\": [\"Severus Snape\"]}, {\"hovertemplate\": \"Name=%{z}<br>Eye colour=%{x}<br>Hair colour=%{y}<extra></extra>\", \"legendgroup\": \"Draco Malfoy\", \"marker\": {\"color\": \"#FF6692\", \"symbol\": \"circle\"}, \"mode\": \"markers\", \"name\": \"Draco Malfoy\", \"scene\": \"scene\", \"showlegend\": true, \"type\": \"scatter3d\", \"x\": [\"Grey\"], \"y\": [\"White-blond\"], \"z\": [\"Draco Malfoy\"]}, {\"hovertemplate\": \"Name=%{z}<br>Eye colour=%{x}<br>Hair colour=%{y}<extra></extra>\", \"legendgroup\": \"Vincent Crabbe\", \"marker\": {\"color\": \"#B6E880\", \"symbol\": \"circle\"}, \"mode\": \"markers\", \"name\": \"Vincent Crabbe\", \"scene\": \"scene\", \"showlegend\": true, \"type\": \"scatter3d\", \"x\": [\"Black\"], \"y\": [\"Black\"], \"z\": [\"Vincent Crabbe\"]}, {\"hovertemplate\": \"Name=%{z}<br>Eye colour=%{x}<br>Hair colour=%{y}<extra></extra>\", \"legendgroup\": \"Gregory Goyle\", \"marker\": {\"color\": \"#FF97FF\", \"symbol\": \"circle\"}, \"mode\": \"markers\", \"name\": \"Gregory Goyle\", \"scene\": \"scene\", \"showlegend\": true, \"type\": \"scatter3d\", \"x\": [\" \"], \"y\": [\"Brown\"], \"z\": [\"Gregory Goyle\"]}, {\"hovertemplate\": \"Name=%{z}<br>Eye colour=%{x}<br>Hair colour=%{y}<extra></extra>\", \"legendgroup\": \"Bellatrix Lestrange\", \"marker\": {\"color\": \"#FECB52\", \"symbol\": \"circle\"}, \"mode\": \"markers\", \"name\": \"Bellatrix Lestrange\", \"scene\": \"scene\", \"showlegend\": true, \"type\": \"scatter3d\", \"x\": [\" \"], \"y\": [\"Black\"], \"z\": [\"Bellatrix Lestrange\"]}, {\"hovertemplate\": \"Name=%{z}<br>Eye colour=%{x}<br>Hair colour=%{y}<extra></extra>\", \"legendgroup\": \"Dolores Jane Umbridge\", \"marker\": {\"color\": \"#636efa\", \"symbol\": \"circle\"}, \"mode\": \"markers\", \"name\": \"Dolores Jane Umbridge\", \"scene\": \"scene\", \"showlegend\": true, \"type\": \"scatter3d\", \"x\": [\" \"], \"y\": [\"Iron grey\"], \"z\": [\"Dolores Jane Umbridge\"]}, {\"hovertemplate\": \"Name=%{z}<br>Eye colour=%{x}<br>Hair colour=%{y}<extra></extra>\", \"legendgroup\": \"Horace Eugene Flaccus Slughorn\", \"marker\": {\"color\": \"#EF553B\", \"symbol\": \"circle\"}, \"mode\": \"markers\", \"name\": \"Horace Eugene Flaccus Slughorn\", \"scene\": \"scene\", \"showlegend\": true, \"type\": \"scatter3d\", \"x\": [\"Gooseberry\"], \"y\": [\"Bald\"], \"z\": [\"Horace Eugene Flaccus Slughorn\"]}, {\"hovertemplate\": \"Name=%{z}<br>Eye colour=%{x}<br>Hair colour=%{y}<extra></extra>\", \"legendgroup\": \"Lucius Malfoy\", \"marker\": {\"color\": \"#00cc96\", \"symbol\": \"circle\"}, \"mode\": \"markers\", \"name\": \"Lucius Malfoy\", \"scene\": \"scene\", \"showlegend\": true, \"type\": \"scatter3d\", \"x\": [\"Grey\"], \"y\": [\"White-blond\"], \"z\": [\"Lucius Malfoy\"]}, {\"hovertemplate\": \"Name=%{z}<br>Eye colour=%{x}<br>Hair colour=%{y}<extra></extra>\", \"legendgroup\": \"Narcissa Malfoy\", \"marker\": {\"color\": \"#ab63fa\", \"symbol\": \"circle\"}, \"mode\": \"markers\", \"name\": \"Narcissa Malfoy\", \"scene\": \"scene\", \"showlegend\": true, \"type\": \"scatter3d\", \"x\": [\"Blue\"], \"y\": [\"Blonde\"], \"z\": [\"Narcissa Malfoy\"]}, {\"hovertemplate\": \"Name=%{z}<br>Eye colour=%{x}<br>Hair colour=%{y}<extra></extra>\", \"legendgroup\": \"Regulus Arcturus Black\", \"marker\": {\"color\": \"#FFA15A\", \"symbol\": \"circle\"}, \"mode\": \"markers\", \"name\": \"Regulus Arcturus Black\", \"scene\": \"scene\", \"showlegend\": true, \"type\": \"scatter3d\", \"x\": [\" \"], \"y\": [\"Black\"], \"z\": [\"Regulus Arcturus Black\"]}, {\"hovertemplate\": \"Name=%{z}<br>Eye colour=%{x}<br>Hair colour=%{y}<extra></extra>\", \"legendgroup\": \"Pansy Parkinson\", \"marker\": {\"color\": \"#19d3f3\", \"symbol\": \"circle\"}, \"mode\": \"markers\", \"name\": \"Pansy Parkinson\", \"scene\": \"scene\", \"showlegend\": true, \"type\": \"scatter3d\", \"x\": [\" \"], \"y\": [\" \"], \"z\": [\"Pansy Parkinson\"]}, {\"hovertemplate\": \"Name=%{z}<br>Eye colour=%{x}<br>Hair colour=%{y}<extra></extra>\", \"legendgroup\": \"Blaise Zabini\", \"marker\": {\"color\": \"#FF6692\", \"symbol\": \"circle\"}, \"mode\": \"markers\", \"name\": \"Blaise Zabini\", \"scene\": \"scene\", \"showlegend\": true, \"type\": \"scatter3d\", \"x\": [\"Brown\"], \"y\": [\"Black\"], \"z\": [\"Blaise Zabini\"]}, {\"hovertemplate\": \"Name=%{z}<br>Eye colour=%{x}<br>Hair colour=%{y}<extra></extra>\", \"legendgroup\": \"Tom Marvolo Riddle\", \"marker\": {\"color\": \"#B6E880\", \"symbol\": \"circle\"}, \"mode\": \"markers\", \"name\": \"Tom Marvolo Riddle\", \"scene\": \"scene\", \"showlegend\": true, \"type\": \"scatter3d\", \"x\": [\"Scarlet\\u00a0\"], \"y\": [\"Bald\"], \"z\": [\"Tom Marvolo Riddle\"]}, {\"hovertemplate\": \"Name=%{z}<br>Eye colour=%{x}<br>Hair colour=%{y}<extra></extra>\", \"legendgroup\": \"Theodore Nott\", \"marker\": {\"color\": \"#FF97FF\", \"symbol\": \"circle\"}, \"mode\": \"markers\", \"name\": \"Theodore Nott\", \"scene\": \"scene\", \"showlegend\": true, \"type\": \"scatter3d\", \"x\": [\" \"], \"y\": [\"Brown\"], \"z\": [\"Theodore Nott\"]}, {\"hovertemplate\": \"Name=%{z}<br>Eye colour=%{x}<br>Hair colour=%{y}<extra></extra>\", \"legendgroup\": \"Rodolphus Lestrange\", \"marker\": {\"color\": \"#FECB52\", \"symbol\": \"circle\"}, \"mode\": \"markers\", \"name\": \"Rodolphus Lestrange\", \"scene\": \"scene\", \"showlegend\": true, \"type\": \"scatter3d\", \"x\": [\"Dark\"], \"y\": [\"Dark\"], \"z\": [\"Rodolphus Lestrange\"]}, {\"hovertemplate\": \"Name=%{z}<br>Eye colour=%{x}<br>Hair colour=%{y}<extra></extra>\", \"legendgroup\": \"Millicent Bulstrode\", \"marker\": {\"color\": \"#636efa\", \"symbol\": \"circle\"}, \"mode\": \"markers\", \"name\": \"Millicent Bulstrode\", \"scene\": \"scene\", \"showlegend\": true, \"type\": \"scatter3d\", \"x\": [\" \"], \"y\": [\"Black\"], \"z\": [\"Millicent Bulstrode\"]}, {\"hovertemplate\": \"Name=%{z}<br>Eye colour=%{x}<br>Hair colour=%{y}<extra></extra>\", \"legendgroup\": \"Graham Montague\", \"marker\": {\"color\": \"#EF553B\", \"symbol\": \"circle\"}, \"mode\": \"markers\", \"name\": \"Graham Montague\", \"scene\": \"scene\", \"showlegend\": true, \"type\": \"scatter3d\", \"x\": [\"Brown\"], \"y\": [\"Brown\"], \"z\": [\"Graham Montague\"]}, {\"hovertemplate\": \"Name=%{z}<br>Eye colour=%{x}<br>Hair colour=%{y}<extra></extra>\", \"legendgroup\": \"Bloody Baron\", \"marker\": {\"color\": \"#00cc96\", \"symbol\": \"circle\"}, \"mode\": \"markers\", \"name\": \"Bloody Baron\", \"scene\": \"scene\", \"showlegend\": true, \"type\": \"scatter3d\", \"x\": [\" \"], \"y\": [\" \"], \"z\": [\"Bloody Baron\"]}, {\"hovertemplate\": \"Name=%{z}<br>Eye colour=%{x}<br>Hair colour=%{y}<extra></extra>\", \"legendgroup\": \"Marcus Flint\", \"marker\": {\"color\": \"#ab63fa\", \"symbol\": \"circle\"}, \"mode\": \"markers\", \"name\": \"Marcus Flint\", \"scene\": \"scene\", \"showlegend\": true, \"type\": \"scatter3d\", \"x\": [\" \"], \"y\": [\"Black\"], \"z\": [\"Marcus Flint\"]}, {\"hovertemplate\": \"Name=%{z}<br>Eye colour=%{x}<br>Hair colour=%{y}<extra></extra>\", \"legendgroup\": \"Penelope Clearwater\", \"marker\": {\"color\": \"#FFA15A\", \"symbol\": \"circle\"}, \"mode\": \"markers\", \"name\": \"Penelope Clearwater\", \"scene\": \"scene\", \"showlegend\": true, \"type\": \"scatter3d\", \"x\": [\" \"], \"y\": [\"Blonde\"], \"z\": [\"Penelope Clearwater\"]}, {\"hovertemplate\": \"Name=%{z}<br>Eye colour=%{x}<br>Hair colour=%{y}<extra></extra>\", \"legendgroup\": \"Roger Davies\", \"marker\": {\"color\": \"#19d3f3\", \"symbol\": \"circle\"}, \"mode\": \"markers\", \"name\": \"Roger Davies\", \"scene\": \"scene\", \"showlegend\": true, \"type\": \"scatter3d\", \"x\": [\"Dark\"], \"y\": [\"Dark\"], \"z\": [\"Roger Davies\"]}, {\"hovertemplate\": \"Name=%{z}<br>Eye colour=%{x}<br>Hair colour=%{y}<extra></extra>\", \"legendgroup\": \"Marcus Belby\", \"marker\": {\"color\": \"#FF6692\", \"symbol\": \"circle\"}, \"mode\": \"markers\", \"name\": \"Marcus Belby\", \"scene\": \"scene\", \"showlegend\": true, \"type\": \"scatter3d\", \"x\": [\"Dark\"], \"y\": [\"Brown\"], \"z\": [\"Marcus Belby\"]}, {\"hovertemplate\": \"Name=%{z}<br>Eye colour=%{x}<br>Hair colour=%{y}<extra></extra>\", \"legendgroup\": \"Salazar Slytherin\", \"marker\": {\"color\": \"#B6E880\", \"symbol\": \"circle\"}, \"mode\": \"markers\", \"name\": \"Salazar Slytherin\", \"scene\": \"scene\", \"showlegend\": true, \"type\": \"scatter3d\", \"x\": [\"Dark\"], \"y\": [\"Grey\"], \"z\": [\"Salazar Slytherin\"]}, {\"hovertemplate\": \"Name=%{z}<br>Eye colour=%{x}<br>Hair colour=%{y}<extra></extra>\", \"legendgroup\": \"Godric Gryffindor\", \"marker\": {\"color\": \"#FF97FF\", \"symbol\": \"circle\"}, \"mode\": \"markers\", \"name\": \"Godric Gryffindor\", \"scene\": \"scene\", \"showlegend\": true, \"type\": \"scatter3d\", \"x\": [\"Green\"], \"y\": [\"Red\"], \"z\": [\"Godric Gryffindor\"]}, {\"hovertemplate\": \"Name=%{z}<br>Eye colour=%{x}<br>Hair colour=%{y}<extra></extra>\", \"legendgroup\": \"Rowena Ravenclaw\", \"marker\": {\"color\": \"#FECB52\", \"symbol\": \"circle\"}, \"mode\": \"markers\", \"name\": \"Rowena Ravenclaw\", \"scene\": \"scene\", \"showlegend\": true, \"type\": \"scatter3d\", \"x\": [\"Dark\"], \"y\": [\"Black\"], \"z\": [\"Rowena Ravenclaw\"]}, {\"hovertemplate\": \"Name=%{z}<br>Eye colour=%{x}<br>Hair colour=%{y}<extra></extra>\", \"legendgroup\": \"Nicholas de Mimsy-Porpington\", \"marker\": {\"color\": \"#636efa\", \"symbol\": \"circle\"}, \"mode\": \"markers\", \"name\": \"Nicholas de Mimsy-Porpington\", \"scene\": \"scene\", \"showlegend\": true, \"type\": \"scatter3d\", \"x\": [\" \"], \"y\": [\"Grey\"], \"z\": [\"Nicholas de Mimsy-Porpington\"]}, {\"hovertemplate\": \"Name=%{z}<br>Eye colour=%{x}<br>Hair colour=%{y}<extra></extra>\", \"legendgroup\": \"Cuthbert Binns\", \"marker\": {\"color\": \"#EF553B\", \"symbol\": \"circle\"}, \"mode\": \"markers\", \"name\": \"Cuthbert Binns\", \"scene\": \"scene\", \"showlegend\": true, \"type\": \"scatter3d\", \"x\": [\"Black\"], \"y\": [\"White (balding)\"], \"z\": [\"Cuthbert Binns\"]}, {\"hovertemplate\": \"Name=%{z}<br>Eye colour=%{x}<br>Hair colour=%{y}<extra></extra>\", \"legendgroup\": \"Barty Crouch Jr.\", \"marker\": {\"color\": \"#00cc96\", \"symbol\": \"circle\"}, \"mode\": \"markers\", \"name\": \"Barty Crouch Jr.\", \"scene\": \"scene\", \"showlegend\": true, \"type\": \"scatter3d\", \"x\": [\"Pale, freckled\"], \"y\": [\"Straw blond\"], \"z\": [\"Barty Crouch Jr.\"]}, {\"hovertemplate\": \"Name=%{z}<br>Eye colour=%{x}<br>Hair colour=%{y}<extra></extra>\", \"legendgroup\": \"Charity Burbage\", \"marker\": {\"color\": \"#ab63fa\", \"symbol\": \"circle\"}, \"mode\": \"markers\", \"name\": \"Charity Burbage\", \"scene\": \"scene\", \"showlegend\": true, \"type\": \"scatter3d\", \"x\": [\" \"], \"y\": [\"Blonde\"], \"z\": [\"Charity Burbage\"]}, {\"hovertemplate\": \"Name=%{z}<br>Eye colour=%{x}<br>Hair colour=%{y}<extra></extra>\", \"legendgroup\": \"Firenze\", \"marker\": {\"color\": \"#FFA15A\", \"symbol\": \"circle\"}, \"mode\": \"markers\", \"name\": \"Firenze\", \"scene\": \"scene\", \"showlegend\": true, \"type\": \"scatter3d\", \"x\": [\"Astonishingly blue\"], \"y\": [\"White-blond\"], \"z\": [\"Firenze\"]}, {\"hovertemplate\": \"Name=%{z}<br>Eye colour=%{x}<br>Hair colour=%{y}<extra></extra>\", \"legendgroup\": \"Alecto Carrow\", \"marker\": {\"color\": \"#19d3f3\", \"symbol\": \"circle\"}, \"mode\": \"markers\", \"name\": \"Alecto Carrow\", \"scene\": \"scene\", \"showlegend\": true, \"type\": \"scatter3d\", \"x\": [\" \"], \"y\": [\" \"], \"z\": [\"Alecto Carrow\"]}, {\"hovertemplate\": \"Name=%{z}<br>Eye colour=%{x}<br>Hair colour=%{y}<extra></extra>\", \"legendgroup\": \"Amycus Carrow\", \"marker\": {\"color\": \"#FF6692\", \"symbol\": \"circle\"}, \"mode\": \"markers\", \"name\": \"Amycus Carrow\", \"scene\": \"scene\", \"showlegend\": true, \"type\": \"scatter3d\", \"x\": [\" \"], \"y\": [\" \"], \"z\": [\"Amycus Carrow\"]}, {\"hovertemplate\": \"Name=%{z}<br>Eye colour=%{x}<br>Hair colour=%{y}<extra></extra>\", \"legendgroup\": \"Helga Hufflepuff\", \"marker\": {\"color\": \"#B6E880\", \"symbol\": \"circle\"}, \"mode\": \"markers\", \"name\": \"Helga Hufflepuff\", \"scene\": \"scene\", \"showlegend\": true, \"type\": \"scatter3d\", \"x\": [\"Blue\"], \"y\": [\"Brown\"], \"z\": [\"Helga Hufflepuff\"]}, {\"hovertemplate\": \"Name=%{z}<br>Eye colour=%{x}<br>Hair colour=%{y}<extra></extra>\", \"legendgroup\": \"Fat Friar\", \"marker\": {\"color\": \"#FF97FF\", \"symbol\": \"circle\"}, \"mode\": \"markers\", \"name\": \"Fat Friar\", \"scene\": \"scene\", \"showlegend\": true, \"type\": \"scatter3d\", \"x\": [\" \"], \"y\": [\"Brown\"], \"z\": [\"Fat Friar\"]}, {\"hovertemplate\": \"Name=%{z}<br>Eye colour=%{x}<br>Hair colour=%{y}<extra></extra>\", \"legendgroup\": \"Helena Ravenclaw\", \"marker\": {\"color\": \"#FECB52\", \"symbol\": \"circle\"}, \"mode\": \"markers\", \"name\": \"Helena Ravenclaw\", \"scene\": \"scene\", \"showlegend\": true, \"type\": \"scatter3d\", \"x\": [\"Grey\"], \"y\": [\"Black\"], \"z\": [\"Helena Ravenclaw\"]}, {\"hovertemplate\": \"Name=%{z}<br>Eye colour=%{x}<br>Hair colour=%{y}<extra></extra>\", \"legendgroup\": \"Nymphadora Tonks\", \"marker\": {\"color\": \"#636efa\", \"symbol\": \"circle\"}, \"mode\": \"markers\", \"name\": \"Nymphadora Tonks\", \"scene\": \"scene\", \"showlegend\": true, \"type\": \"scatter3d\", \"x\": [\"Variable\"], \"y\": [\"Variable\"], \"z\": [\"Nymphadora Tonks\"]}, {\"hovertemplate\": \"Name=%{z}<br>Eye colour=%{x}<br>Hair colour=%{y}<extra></extra>\", \"legendgroup\": \"Pomona Sprout\", \"marker\": {\"color\": \"#EF553B\", \"symbol\": \"circle\"}, \"mode\": \"markers\", \"name\": \"Pomona Sprout\", \"scene\": \"scene\", \"showlegend\": true, \"type\": \"scatter3d\", \"x\": [\"Grey\"], \"y\": [\" \"], \"z\": [\"Pomona Sprout\"]}, {\"hovertemplate\": \"Name=%{z}<br>Eye colour=%{x}<br>Hair colour=%{y}<extra></extra>\", \"legendgroup\": \"Newton Scamander\", \"marker\": {\"color\": \"#00cc96\", \"symbol\": \"circle\"}, \"mode\": \"markers\", \"name\": \"Newton Scamander\", \"scene\": \"scene\", \"showlegend\": true, \"type\": \"scatter3d\", \"x\": [\"Blue\"], \"y\": [\"Red brown\"], \"z\": [\"Newton Scamander\"]}, {\"hovertemplate\": \"Name=%{z}<br>Eye colour=%{x}<br>Hair colour=%{y}<extra></extra>\", \"legendgroup\": \"Cedric Diggory\", \"marker\": {\"color\": \"#ab63fa\", \"symbol\": \"circle\"}, \"mode\": \"markers\", \"name\": \"Cedric Diggory\", \"scene\": \"scene\", \"showlegend\": true, \"type\": \"scatter3d\", \"x\": [\"Grey\"], \"y\": [\"Dark\"], \"z\": [\"Cedric Diggory\"]}, {\"hovertemplate\": \"Name=%{z}<br>Eye colour=%{x}<br>Hair colour=%{y}<extra></extra>\", \"legendgroup\": \"Justin Finch-Fletchley\", \"marker\": {\"color\": \"#FFA15A\", \"symbol\": \"circle\"}, \"mode\": \"markers\", \"name\": \"Justin Finch-Fletchley\", \"scene\": \"scene\", \"showlegend\": true, \"type\": \"scatter3d\", \"x\": [\" \"], \"y\": [\"Red\"], \"z\": [\"Justin Finch-Fletchley\"]}, {\"hovertemplate\": \"Name=%{z}<br>Eye colour=%{x}<br>Hair colour=%{y}<extra></extra>\", \"legendgroup\": \"Zacharias Smith\", \"marker\": {\"color\": \"#19d3f3\", \"symbol\": \"circle\"}, \"mode\": \"markers\", \"name\": \"Zacharias Smith\", \"scene\": \"scene\", \"showlegend\": true, \"type\": \"scatter3d\", \"x\": [\" \"], \"y\": [\"Blonde\"], \"z\": [\"Zacharias Smith\"]}, {\"hovertemplate\": \"Name=%{z}<br>Eye colour=%{x}<br>Hair colour=%{y}<extra></extra>\", \"legendgroup\": \"Hannah Abbott\", \"marker\": {\"color\": \"#FF6692\", \"symbol\": \"circle\"}, \"mode\": \"markers\", \"name\": \"Hannah Abbott\", \"scene\": \"scene\", \"showlegend\": true, \"type\": \"scatter3d\", \"x\": [\"Brown\"], \"y\": [\"Blonde\"], \"z\": [\"Hannah Abbott\"]}, {\"hovertemplate\": \"Name=%{z}<br>Eye colour=%{x}<br>Hair colour=%{y}<extra></extra>\", \"legendgroup\": \"Ernest Macmillan\", \"marker\": {\"color\": \"#B6E880\", \"symbol\": \"circle\"}, \"mode\": \"markers\", \"name\": \"Ernest Macmillan\", \"scene\": \"scene\", \"showlegend\": true, \"type\": \"scatter3d\", \"x\": [\" \"], \"y\": [\"Blond\"], \"z\": [\"Ernest Macmillan\"]}, {\"hovertemplate\": \"Name=%{z}<br>Eye colour=%{x}<br>Hair colour=%{y}<extra></extra>\", \"legendgroup\": \"Susan Bones\", \"marker\": {\"color\": \"#FF97FF\", \"symbol\": \"circle\"}, \"mode\": \"markers\", \"name\": \"Susan Bones\", \"scene\": \"scene\", \"showlegend\": true, \"type\": \"scatter3d\", \"x\": [\" \"], \"y\": [\" \"], \"z\": [\"Susan Bones\"]}, {\"hovertemplate\": \"Name=%{z}<br>Eye colour=%{x}<br>Hair colour=%{y}<extra></extra>\", \"legendgroup\": \"Walden Macnair\", \"marker\": {\"color\": \"#FECB52\", \"symbol\": \"circle\"}, \"mode\": \"markers\", \"name\": \"Walden Macnair\", \"scene\": \"scene\", \"showlegend\": true, \"type\": \"scatter3d\", \"x\": [\" \"], \"y\": [\"Black\"], \"z\": [\"Walden Macnair\"]}, {\"hovertemplate\": \"Name=%{z}<br>Eye colour=%{x}<br>Hair colour=%{y}<extra></extra>\", \"legendgroup\": \"Augustus Rookwood\", \"marker\": {\"color\": \"#636efa\", \"symbol\": \"circle\"}, \"mode\": \"markers\", \"name\": \"Augustus Rookwood\", \"scene\": \"scene\", \"showlegend\": true, \"type\": \"scatter3d\", \"x\": [\" \"], \"y\": [\"Brown/greying\"], \"z\": [\"Augustus Rookwood\"]}, {\"hovertemplate\": \"Name=%{z}<br>Eye colour=%{x}<br>Hair colour=%{y}<extra></extra>\", \"legendgroup\": \"Antonin Dolohov\", \"marker\": {\"color\": \"#EF553B\", \"symbol\": \"circle\"}, \"mode\": \"markers\", \"name\": \"Antonin Dolohov\", \"scene\": \"scene\", \"showlegend\": true, \"type\": \"scatter3d\", \"x\": [\" \"], \"y\": [\"Dark\"], \"z\": [\"Antonin Dolohov\"]}, {\"hovertemplate\": \"Name=%{z}<br>Eye colour=%{x}<br>Hair colour=%{y}<extra></extra>\", \"legendgroup\": \"Corban Yaxley\", \"marker\": {\"color\": \"#00cc96\", \"symbol\": \"circle\"}, \"mode\": \"markers\", \"name\": \"Corban Yaxley\", \"scene\": \"scene\", \"showlegend\": true, \"type\": \"scatter3d\", \"x\": [\"Blue\"], \"y\": [\"Blonde\"], \"z\": [\"Corban Yaxley\"]}, {\"hovertemplate\": \"Name=%{z}<br>Eye colour=%{x}<br>Hair colour=%{y}<extra></extra>\", \"legendgroup\": \"Igor Karkaroff\", \"marker\": {\"color\": \"#ab63fa\", \"symbol\": \"circle\"}, \"mode\": \"markers\", \"name\": \"Igor Karkaroff\", \"scene\": \"scene\", \"showlegend\": true, \"type\": \"scatter3d\", \"x\": [\" \"], \"y\": [\"Silver| formerly black\"], \"z\": [\"Igor Karkaroff\"]}, {\"hovertemplate\": \"Name=%{z}<br>Eye colour=%{x}<br>Hair colour=%{y}<extra></extra>\", \"legendgroup\": \"Kingsley Shacklebolt\", \"marker\": {\"color\": \"#FFA15A\", \"symbol\": \"circle\"}, \"mode\": \"markers\", \"name\": \"Kingsley Shacklebolt\", \"scene\": \"scene\", \"showlegend\": true, \"type\": \"scatter3d\", \"x\": [\"Black\"], \"y\": [\"Bald\"], \"z\": [\"Kingsley Shacklebolt\"]}, {\"hovertemplate\": \"Name=%{z}<br>Eye colour=%{x}<br>Hair colour=%{y}<extra></extra>\", \"legendgroup\": \"Alastor Moody\", \"marker\": {\"color\": \"#19d3f3\", \"symbol\": \"circle\"}, \"mode\": \"markers\", \"name\": \"Alastor Moody\", \"scene\": \"scene\", \"showlegend\": true, \"type\": \"scatter3d\", \"x\": [\"One dark,\\u00a0one electric blue\"], \"y\": [\"Grey\"], \"z\": [\"Alastor Moody\"]}, {\"hovertemplate\": \"Name=%{z}<br>Eye colour=%{x}<br>Hair colour=%{y}<extra></extra>\", \"legendgroup\": \"Alice Longbottom\", \"marker\": {\"color\": \"#FF6692\", \"symbol\": \"circle\"}, \"mode\": \"markers\", \"name\": \"Alice Longbottom\", \"scene\": \"scene\", \"showlegend\": true, \"type\": \"scatter3d\", \"x\": [\" \"], \"y\": [\"Blonde\"], \"z\": [\"Alice Longbottom\"]}, {\"hovertemplate\": \"Name=%{z}<br>Eye colour=%{x}<br>Hair colour=%{y}<extra></extra>\", \"legendgroup\": \"Frank Longbottom\", \"marker\": {\"color\": \"#B6E880\", \"symbol\": \"circle\"}, \"mode\": \"markers\", \"name\": \"Frank Longbottom\", \"scene\": \"scene\", \"showlegend\": true, \"type\": \"scatter3d\", \"x\": [\" \"], \"y\": [\"Blonde\"], \"z\": [\"Frank Longbottom\"]}, {\"hovertemplate\": \"Name=%{z}<br>Eye colour=%{x}<br>Hair colour=%{y}<extra></extra>\", \"legendgroup\": \"Rufus Scrimgeour\", \"marker\": {\"color\": \"#FF97FF\", \"symbol\": \"circle\"}, \"mode\": \"markers\", \"name\": \"Rufus Scrimgeour\", \"scene\": \"scene\", \"showlegend\": true, \"type\": \"scatter3d\", \"x\": [\"Yellowish\"], \"y\": [\"Tawny\"], \"z\": [\"Rufus Scrimgeour\"]}, {\"hovertemplate\": \"Name=%{z}<br>Eye colour=%{x}<br>Hair colour=%{y}<extra></extra>\", \"legendgroup\": \"Cornelius Oswald Fudge\", \"marker\": {\"color\": \"#FECB52\", \"symbol\": \"circle\"}, \"mode\": \"markers\", \"name\": \"Cornelius Oswald Fudge\", \"scene\": \"scene\", \"showlegend\": true, \"type\": \"scatter3d\", \"x\": [\" \"], \"y\": [\"Grey\"], \"z\": [\"Cornelius Oswald Fudge\"]}, {\"hovertemplate\": \"Name=%{z}<br>Eye colour=%{x}<br>Hair colour=%{y}<extra></extra>\", \"legendgroup\": \"Barty Crouch Sr.\", \"marker\": {\"color\": \"#636efa\", \"symbol\": \"circle\"}, \"mode\": \"markers\", \"name\": \"Barty Crouch Sr.\", \"scene\": \"scene\", \"showlegend\": true, \"type\": \"scatter3d\", \"x\": [\" \"], \"y\": [\"Grey\"], \"z\": [\"Barty Crouch Sr.\"]}, {\"hovertemplate\": \"Name=%{z}<br>Eye colour=%{x}<br>Hair colour=%{y}<extra></extra>\", \"legendgroup\": \"Amos Diggory\", \"marker\": {\"color\": \"#EF553B\", \"symbol\": \"circle\"}, \"mode\": \"markers\", \"name\": \"Amos Diggory\", \"scene\": \"scene\", \"showlegend\": true, \"type\": \"scatter3d\", \"x\": [\"Ruddy\"], \"y\": [\"Brown\"], \"z\": [\"Amos Diggory\"]}, {\"hovertemplate\": \"Name=%{z}<br>Eye colour=%{x}<br>Hair colour=%{y}<extra></extra>\", \"legendgroup\": \"Dedalus Diggle\", \"marker\": {\"color\": \"#00cc96\", \"symbol\": \"circle\"}, \"mode\": \"markers\", \"name\": \"Dedalus Diggle\", \"scene\": \"scene\", \"showlegend\": true, \"type\": \"scatter3d\", \"x\": [\" \"], \"y\": [\" \"], \"z\": [\"Dedalus Diggle\"]}, {\"hovertemplate\": \"Name=%{z}<br>Eye colour=%{x}<br>Hair colour=%{y}<extra></extra>\", \"legendgroup\": \"Elphias Doge\", \"marker\": {\"color\": \"#ab63fa\", \"symbol\": \"circle\"}, \"mode\": \"markers\", \"name\": \"Elphias Doge\", \"scene\": \"scene\", \"showlegend\": true, \"type\": \"scatter3d\", \"x\": [\"Grey/Blue[\"], \"y\": [\"Silver\"], \"z\": [\"Elphias Doge\"]}, {\"hovertemplate\": \"Name=%{z}<br>Eye colour=%{x}<br>Hair colour=%{y}<extra></extra>\", \"legendgroup\": \"Fleur Isabelle Delacour\", \"marker\": {\"color\": \"#FFA15A\", \"symbol\": \"circle\"}, \"mode\": \"markers\", \"name\": \"Fleur Isabelle Delacour\", \"scene\": \"scene\", \"showlegend\": true, \"type\": \"scatter3d\", \"x\": [\"Dark blue[\"], \"y\": [\"Silvery-blonde\"], \"z\": [\"Fleur Isabelle Delacour\"]}, {\"hovertemplate\": \"Name=%{z}<br>Eye colour=%{x}<br>Hair colour=%{y}<extra></extra>\", \"legendgroup\": \"Aberforth Dumbledore\", \"marker\": {\"color\": \"#19d3f3\", \"symbol\": \"circle\"}, \"mode\": \"markers\", \"name\": \"Aberforth Dumbledore\", \"scene\": \"scene\", \"showlegend\": true, \"type\": \"scatter3d\", \"x\": [\"Bright Blue\"], \"y\": [\"Grey\"], \"z\": [\"Aberforth Dumbledore\"]}, {\"hovertemplate\": \"Name=%{z}<br>Eye colour=%{x}<br>Hair colour=%{y}<extra></extra>\", \"legendgroup\": \"Mundungus Fletcher\", \"marker\": {\"color\": \"#FF6692\", \"symbol\": \"circle\"}, \"mode\": \"markers\", \"name\": \"Mundungus Fletcher\", \"scene\": \"scene\", \"showlegend\": true, \"type\": \"scatter3d\", \"x\": [\"Brown\"], \"y\": [\"Ginger\"], \"z\": [\"Mundungus Fletcher\"]}, {\"hovertemplate\": \"Name=%{z}<br>Eye colour=%{x}<br>Hair colour=%{y}<extra></extra>\", \"legendgroup\": \"Sturgis Podmore\", \"marker\": {\"color\": \"#B6E880\", \"symbol\": \"circle\"}, \"mode\": \"markers\", \"name\": \"Sturgis Podmore\", \"scene\": \"scene\", \"showlegend\": true, \"type\": \"scatter3d\", \"x\": [\"Brown\"], \"y\": [\"Straw-coloured\"], \"z\": [\"Sturgis Podmore\"]}, {\"hovertemplate\": \"Name=%{z}<br>Eye colour=%{x}<br>Hair colour=%{y}<extra></extra>\", \"legendgroup\": \"Hestia Jones\", \"marker\": {\"color\": \"#FF97FF\", \"symbol\": \"circle\"}, \"mode\": \"markers\", \"name\": \"Hestia Jones\", \"scene\": \"scene\", \"showlegend\": true, \"type\": \"scatter3d\", \"x\": [\" \"], \"y\": [\"Black\"], \"z\": [\"Hestia Jones\"]}, {\"hovertemplate\": \"Name=%{z}<br>Eye colour=%{x}<br>Hair colour=%{y}<extra></extra>\", \"legendgroup\": \"Marlene McKinnon\", \"marker\": {\"color\": \"#FECB52\", \"symbol\": \"circle\"}, \"mode\": \"markers\", \"name\": \"Marlene McKinnon\", \"scene\": \"scene\", \"showlegend\": true, \"type\": \"scatter3d\", \"x\": [\"Brown\"], \"y\": [\"Red\"], \"z\": [\"Marlene McKinnon\"]}, {\"hovertemplate\": \"Name=%{z}<br>Eye colour=%{x}<br>Hair colour=%{y}<extra></extra>\", \"legendgroup\": \"Fabian Prewett\", \"marker\": {\"color\": \"#636efa\", \"symbol\": \"circle\"}, \"mode\": \"markers\", \"name\": \"Fabian Prewett\", \"scene\": \"scene\", \"showlegend\": true, \"type\": \"scatter3d\", \"x\": [\"Grey\"], \"y\": [\"Red\"], \"z\": [\"Fabian Prewett\"]}, {\"hovertemplate\": \"Name=%{z}<br>Eye colour=%{x}<br>Hair colour=%{y}<extra></extra>\", \"legendgroup\": \"Gideon Prewett\", \"marker\": {\"color\": \"#EF553B\", \"symbol\": \"circle\"}, \"mode\": \"markers\", \"name\": \"Gideon Prewett\", \"scene\": \"scene\", \"showlegend\": true, \"type\": \"scatter3d\", \"x\": [\"Dark Grey\"], \"y\": [\"Red \"], \"z\": [\"Gideon Prewett\"]}, {\"hovertemplate\": \"Name=%{z}<br>Eye colour=%{x}<br>Hair colour=%{y}<extra></extra>\", \"legendgroup\": \"Emmeline Vance\", \"marker\": {\"color\": \"#00cc96\", \"symbol\": \"circle\"}, \"mode\": \"markers\", \"name\": \"Emmeline Vance\", \"scene\": \"scene\", \"showlegend\": true, \"type\": \"scatter3d\", \"x\": [\" \"], \"y\": [\" \"], \"z\": [\"Emmeline Vance\"]}, {\"hovertemplate\": \"Name=%{z}<br>Eye colour=%{x}<br>Hair colour=%{y}<extra></extra>\", \"legendgroup\": \"Edgar Bones\", \"marker\": {\"color\": \"#ab63fa\", \"symbol\": \"circle\"}, \"mode\": \"markers\", \"name\": \"Edgar Bones\", \"scene\": \"scene\", \"showlegend\": true, \"type\": \"scatter3d\", \"x\": [\"Grey\"], \"y\": [\"Reddish-brown\"], \"z\": [\"Edgar Bones\"]}, {\"hovertemplate\": \"Name=%{z}<br>Eye colour=%{x}<br>Hair colour=%{y}<extra></extra>\", \"legendgroup\": \"Dorcas Meadowes\", \"marker\": {\"color\": \"#FFA15A\", \"symbol\": \"circle\"}, \"mode\": \"markers\", \"name\": \"Dorcas Meadowes\", \"scene\": \"scene\", \"showlegend\": true, \"type\": \"scatter3d\", \"x\": [\"Brown\"], \"y\": [\"Black\"], \"z\": [\"Dorcas Meadowes\"]}, {\"hovertemplate\": \"Name=%{z}<br>Eye colour=%{x}<br>Hair colour=%{y}<extra></extra>\", \"legendgroup\": \"Benjy Fenwick\", \"marker\": {\"color\": \"#19d3f3\", \"symbol\": \"circle\"}, \"mode\": \"markers\", \"name\": \"Benjy Fenwick\", \"scene\": \"scene\", \"showlegend\": true, \"type\": \"scatter3d\", \"x\": [\"Black\"], \"y\": [\"Black\"], \"z\": [\"Benjy Fenwick\"]}, {\"hovertemplate\": \"Name=%{z}<br>Eye colour=%{x}<br>Hair colour=%{y}<extra></extra>\", \"legendgroup\": \"Madame Olympe Maxime\", \"marker\": {\"color\": \"#FF6692\", \"symbol\": \"circle\"}, \"mode\": \"markers\", \"name\": \"Madame Olympe Maxime\", \"scene\": \"scene\", \"showlegend\": true, \"type\": \"scatter3d\", \"x\": [\"Black\"], \"y\": [\"Brown\"], \"z\": [\"Madame Olympe Maxime\"]}, {\"hovertemplate\": \"Name=%{z}<br>Eye colour=%{x}<br>Hair colour=%{y}<extra></extra>\", \"legendgroup\": \"Gabrielle Delacour\", \"marker\": {\"color\": \"#B6E880\", \"symbol\": \"circle\"}, \"mode\": \"markers\", \"name\": \"Gabrielle Delacour\", \"scene\": \"scene\", \"showlegend\": true, \"type\": \"scatter3d\", \"x\": [\" \"], \"y\": [\"Silvery-blonde\"], \"z\": [\"Gabrielle Delacour\"]}, {\"hovertemplate\": \"Name=%{z}<br>Eye colour=%{x}<br>Hair colour=%{y}<extra></extra>\", \"legendgroup\": \"Viktor Krum\", \"marker\": {\"color\": \"#FF97FF\", \"symbol\": \"circle\"}, \"mode\": \"markers\", \"name\": \"Viktor Krum\", \"scene\": \"scene\", \"showlegend\": true, \"type\": \"scatter3d\", \"x\": [\"Dark\"], \"y\": [\"Dark\"], \"z\": [\"Viktor Krum\"]}, {\"hovertemplate\": \"Name=%{z}<br>Eye colour=%{x}<br>Hair colour=%{y}<extra></extra>\", \"legendgroup\": \"Petunia Dursley\", \"marker\": {\"color\": \"#FECB52\", \"symbol\": \"circle\"}, \"mode\": \"markers\", \"name\": \"Petunia Dursley\", \"scene\": \"scene\", \"showlegend\": true, \"type\": \"scatter3d\", \"x\": [\" \"], \"y\": [\"Blonde\"], \"z\": [\"Petunia Dursley\"]}, {\"hovertemplate\": \"Name=%{z}<br>Eye colour=%{x}<br>Hair colour=%{y}<extra></extra>\", \"legendgroup\": \"Vernon Dursley\", \"marker\": {\"color\": \"#636efa\", \"symbol\": \"circle\"}, \"mode\": \"markers\", \"name\": \"Vernon Dursley\", \"scene\": \"scene\", \"showlegend\": true, \"type\": \"scatter3d\", \"x\": [\" \"], \"y\": [\"Black\"], \"z\": [\"Vernon Dursley\"]}, {\"hovertemplate\": \"Name=%{z}<br>Eye colour=%{x}<br>Hair colour=%{y}<extra></extra>\", \"legendgroup\": \"Dudley Dursley\", \"marker\": {\"color\": \"#EF553B\", \"symbol\": \"circle\"}, \"mode\": \"markers\", \"name\": \"Dudley Dursley\", \"scene\": \"scene\", \"showlegend\": true, \"type\": \"scatter3d\", \"x\": [\"Blue\"], \"y\": [\"Blond\"], \"z\": [\"Dudley Dursley\"]}, {\"hovertemplate\": \"Name=%{z}<br>Eye colour=%{x}<br>Hair colour=%{y}<extra></extra>\", \"legendgroup\": \"Marge Dursley\", \"marker\": {\"color\": \"#00cc96\", \"symbol\": \"circle\"}, \"mode\": \"markers\", \"name\": \"Marge Dursley\", \"scene\": \"scene\", \"showlegend\": true, \"type\": \"scatter3d\", \"x\": [\" \"], \"y\": [\"Grey\"], \"z\": [\"Marge Dursley\"]}, {\"hovertemplate\": \"Name=%{z}<br>Eye colour=%{x}<br>Hair colour=%{y}<extra></extra>\", \"legendgroup\": \"Dennis Creevey\", \"marker\": {\"color\": \"#ab63fa\", \"symbol\": \"circle\"}, \"mode\": \"markers\", \"name\": \"Dennis Creevey\", \"scene\": \"scene\", \"showlegend\": true, \"type\": \"scatter3d\", \"x\": [\" \"], \"y\": [\"Mousy brown\"], \"z\": [\"Dennis Creevey\"]}, {\"hovertemplate\": \"Name=%{z}<br>Eye colour=%{x}<br>Hair colour=%{y}<extra></extra>\", \"legendgroup\": \"Albus Severus Potter\", \"marker\": {\"color\": \"#FFA15A\", \"symbol\": \"circle\"}, \"mode\": \"markers\", \"name\": \"Albus Severus Potter\", \"scene\": \"scene\", \"showlegend\": true, \"type\": \"scatter3d\", \"x\": [\"Bright green\"], \"y\": [\"Jet-black\"], \"z\": [\"Albus Severus Potter\"]}, {\"hovertemplate\": \"Name=%{z}<br>Eye colour=%{x}<br>Hair colour=%{y}<extra></extra>\", \"legendgroup\": \"Scorpius Hyperion Malfoy\", \"marker\": {\"color\": \"#19d3f3\", \"symbol\": \"circle\"}, \"mode\": \"markers\", \"name\": \"Scorpius Hyperion Malfoy\", \"scene\": \"scene\", \"showlegend\": true, \"type\": \"scatter3d\", \"x\": [\"Grey\"], \"y\": [\"White blond\"], \"z\": [\"Scorpius Hyperion Malfoy\"]}, {\"hovertemplate\": \"Name=%{z}<br>Eye colour=%{x}<br>Hair colour=%{y}<extra></extra>\", \"legendgroup\": \"Edward Remus Lupin\", \"marker\": {\"color\": \"#FF6692\", \"symbol\": \"circle\"}, \"mode\": \"markers\", \"name\": \"Edward Remus Lupin\", \"scene\": \"scene\", \"showlegend\": true, \"type\": \"scatter3d\", \"x\": [\"Variable\"], \"y\": [\"Variable\"], \"z\": [\"Edward Remus Lupin\"]}, {\"hovertemplate\": \"Name=%{z}<br>Eye colour=%{x}<br>Hair colour=%{y}<extra></extra>\", \"legendgroup\": \"James Sirius Potter\", \"marker\": {\"color\": \"#B6E880\", \"symbol\": \"circle\"}, \"mode\": \"markers\", \"name\": \"James Sirius Potter\", \"scene\": \"scene\", \"showlegend\": true, \"type\": \"scatter3d\", \"x\": [\" \"], \"y\": [\" \"], \"z\": [\"James Sirius Potter\"]}, {\"hovertemplate\": \"Name=%{z}<br>Eye colour=%{x}<br>Hair colour=%{y}<extra></extra>\", \"legendgroup\": \"Rose Granger-Weasley\", \"marker\": {\"color\": \"#FF97FF\", \"symbol\": \"circle\"}, \"mode\": \"markers\", \"name\": \"Rose Granger-Weasley\", \"scene\": \"scene\", \"showlegend\": true, \"type\": \"scatter3d\", \"x\": [\" \"], \"y\": [\"Red\"], \"z\": [\"Rose Granger-Weasley\"]}, {\"hovertemplate\": \"Name=%{z}<br>Eye colour=%{x}<br>Hair colour=%{y}<extra></extra>\", \"legendgroup\": \"Argus Filch\", \"marker\": {\"color\": \"#FECB52\", \"symbol\": \"circle\"}, \"mode\": \"markers\", \"name\": \"Argus Filch\", \"scene\": \"scene\", \"showlegend\": true, \"type\": \"scatter3d\", \"x\": [\"Pale\"], \"y\": [\"Grey\"], \"z\": [\"Argus Filch\"]}, {\"hovertemplate\": \"Name=%{z}<br>Eye colour=%{x}<br>Hair colour=%{y}<extra></extra>\", \"legendgroup\": \"Poppy Pomfrey\", \"marker\": {\"color\": \"#636efa\", \"symbol\": \"circle\"}, \"mode\": \"markers\", \"name\": \"Poppy Pomfrey\", \"scene\": \"scene\", \"showlegend\": true, \"type\": \"scatter3d\", \"x\": [\" \"], \"y\": [\" \"], \"z\": [\"Poppy Pomfrey\"]}, {\"hovertemplate\": \"Name=%{z}<br>Eye colour=%{x}<br>Hair colour=%{y}<extra></extra>\", \"legendgroup\": \"Rolanda Hooch\", \"marker\": {\"color\": \"#EF553B\", \"symbol\": \"circle\"}, \"mode\": \"markers\", \"name\": \"Rolanda Hooch\", \"scene\": \"scene\", \"showlegend\": true, \"type\": \"scatter3d\", \"x\": [\"Yellow\"], \"y\": [\"Grey\"], \"z\": [\"Rolanda Hooch\"]}, {\"hovertemplate\": \"Name=%{z}<br>Eye colour=%{x}<br>Hair colour=%{y}<extra></extra>\", \"legendgroup\": \"Irma Pince\", \"marker\": {\"color\": \"#00cc96\", \"symbol\": \"circle\"}, \"mode\": \"markers\", \"name\": \"Irma Pince\", \"scene\": \"scene\", \"showlegend\": true, \"type\": \"scatter3d\", \"x\": [\" \"], \"y\": [\" \"], \"z\": [\"Irma Pince\"]}, {\"hovertemplate\": \"Name=%{z}<br>Eye colour=%{x}<br>Hair colour=%{y}<extra></extra>\", \"legendgroup\": \"Aurora Sinistra\", \"marker\": {\"color\": \"#ab63fa\", \"symbol\": \"circle\"}, \"mode\": \"markers\", \"name\": \"Aurora Sinistra\", \"scene\": \"scene\", \"showlegend\": true, \"type\": \"scatter3d\", \"x\": [\"Dark\"], \"y\": [\"Dark\"], \"z\": [\"Aurora Sinistra\"]}, {\"hovertemplate\": \"Name=%{z}<br>Eye colour=%{x}<br>Hair colour=%{y}<extra></extra>\", \"legendgroup\": \"Septima Vector\", \"marker\": {\"color\": \"#FFA15A\", \"symbol\": \"circle\"}, \"mode\": \"markers\", \"name\": \"Septima Vector\", \"scene\": \"scene\", \"showlegend\": true, \"type\": \"scatter3d\", \"x\": [\" \"], \"y\": [\"Black\"], \"z\": [\"Septima Vector\"]}, {\"hovertemplate\": \"Name=%{z}<br>Eye colour=%{x}<br>Hair colour=%{y}<extra></extra>\", \"legendgroup\": \"Wilhelmina Grubbly-Plank\", \"marker\": {\"color\": \"#19d3f3\", \"symbol\": \"circle\"}, \"mode\": \"markers\", \"name\": \"Wilhelmina Grubbly-Plank\", \"scene\": \"scene\", \"showlegend\": true, \"type\": \"scatter3d\", \"x\": [\" \"], \"y\": [\"Grey\"], \"z\": [\"Wilhelmina Grubbly-Plank\"]}, {\"hovertemplate\": \"Name=%{z}<br>Eye colour=%{x}<br>Hair colour=%{y}<extra></extra>\", \"legendgroup\": \"Fenrir Greyback\", \"marker\": {\"color\": \"#FF6692\", \"symbol\": \"circle\"}, \"mode\": \"markers\", \"name\": \"Fenrir Greyback\", \"scene\": \"scene\", \"showlegend\": true, \"type\": \"scatter3d\", \"x\": [\" \"], \"y\": [\"Grey\"], \"z\": [\"Fenrir Greyback\"]}, {\"hovertemplate\": \"Name=%{z}<br>Eye colour=%{x}<br>Hair colour=%{y}<extra></extra>\", \"legendgroup\": \"Gellert Grindelwald\", \"marker\": {\"color\": \"#B6E880\", \"symbol\": \"circle\"}, \"mode\": \"markers\", \"name\": \"Gellert Grindelwald\", \"scene\": \"scene\", \"showlegend\": true, \"type\": \"scatter3d\", \"x\": [\"Blue\"], \"y\": [\"Blond\"], \"z\": [\"Gellert Grindelwald\"]}, {\"hovertemplate\": \"Name=%{z}<br>Eye colour=%{x}<br>Hair colour=%{y}<extra></extra>\", \"legendgroup\": \"Dobby\", \"marker\": {\"color\": \"#FF97FF\", \"symbol\": \"circle\"}, \"mode\": \"markers\", \"name\": \"Dobby\", \"scene\": \"scene\", \"showlegend\": true, \"type\": \"scatter3d\", \"x\": [\" \"], \"y\": [\"Green\"], \"z\": [\"Dobby\"]}, {\"hovertemplate\": \"Name=%{z}<br>Eye colour=%{x}<br>Hair colour=%{y}<extra></extra>\", \"legendgroup\": \"Kreacher\", \"marker\": {\"color\": \"#FECB52\", \"symbol\": \"circle\"}, \"mode\": \"markers\", \"name\": \"Kreacher\", \"scene\": \"scene\", \"showlegend\": true, \"type\": \"scatter3d\", \"x\": [\" \"], \"y\": [\"White\"], \"z\": [\"Kreacher\"]}],                        {\"height\": 800, \"legend\": {\"title\": {\"text\": \"Name\"}, \"tracegroupgap\": 0}, \"scene\": {\"domain\": {\"x\": [0.0, 1.0], \"y\": [0.0, 1.0]}, \"xaxis\": {\"title\": {\"text\": \"Eye colour\"}}, \"yaxis\": {\"title\": {\"text\": \"Hair colour\"}}, \"zaxis\": {\"categoryarray\": [\"Harry James Potter\", \"Ronald Bilius Weasley\", \"Hermione Jean Granger\", \"Albus Percival Wulfric Brian Dumbledore\", \"Rubeus Hagrid\", \"Neville Longbottom\", \"Fred Weasley\", \"George Weasley\", \"Ginevra (Ginny) Molly Weasley\", \"Dean Thomas\", \"Seamus Finnigan\", \"Lily J. Potter\", \"James Potter\", \"Sirius Black\", \"Remus John Lupin\", \"Peter Pettigrew\", \"Percy Ignatius Weasley\", \"(Bill) William Arthur Weasley\", \"Charles Weasley\", \"Lee Jordan\\u00a0\", \"Oliver Wood\", \"Angelina Johnson\", \"Katie Bell\", \"Alicia Spinnet\", \"Lavender Brown\", \"Parvati Patil\", \"Romilda Vane\", \"Colin Creevey\", \"Cormac McLaggen\", \"Minerva McGonagall\", \"Molly Weasley\", \"Arthur Weasley\", \"Quirinus Quirrell\", \"Cho Chang\", \"Luna Lovegood\", \"Gilderoy Lockhart\", \"Filius Flitwick\", \"Sybill Patricia Trelawney\", \"Garrick Ollivander\", \"Myrtle Elizabeth Warren (Moaning Myrtle)\", \"Padma Patil\", \"Michael Corner\", \"Marietta Edgecombe\", \"Terry Boot\", \"Anthony Goldstein\", \"Severus Snape\", \"Draco Malfoy\", \"Vincent Crabbe\", \"Gregory Goyle\", \"Bellatrix Lestrange\", \"Dolores Jane Umbridge\", \"Horace Eugene Flaccus Slughorn\", \"Lucius Malfoy\", \"Narcissa Malfoy\", \"Regulus Arcturus Black\", \"Pansy Parkinson\", \"Blaise Zabini\", \"Tom Marvolo Riddle\", \"Theodore Nott\", \"Rodolphus Lestrange\", \"Millicent Bulstrode\", \"Graham Montague\", \"Bloody Baron\", \"Marcus Flint\", \"Penelope Clearwater\", \"Roger Davies\", \"Marcus Belby\", \"Salazar Slytherin\", \"Godric Gryffindor\", \"Rowena Ravenclaw\", \"Nicholas de Mimsy-Porpington\", \"Cuthbert Binns\", \"Barty Crouch Jr.\", \"Charity Burbage\", \"Firenze\", \"Alecto Carrow\", \"Amycus Carrow\", \"Helga Hufflepuff\", \"Fat Friar\", \"Helena Ravenclaw\", \"Nymphadora Tonks\", \"Pomona Sprout\", \"Newton Scamander\", \"Cedric Diggory\", \"Justin Finch-Fletchley\", \"Zacharias Smith\", \"Hannah Abbott\", \"Ernest Macmillan\", \"Susan Bones\", \"Walden Macnair\", \"Augustus Rookwood\", \"Antonin Dolohov\", \"Corban Yaxley\", \"Igor Karkaroff\", \"Kingsley Shacklebolt\", \"Alastor Moody\", \"Alice Longbottom\", \"Frank Longbottom\", \"Rufus Scrimgeour\", \"Cornelius Oswald Fudge\", \"Barty Crouch Sr.\", \"Amos Diggory\", \"Dedalus Diggle\", \"Elphias Doge\", \"Fleur Isabelle Delacour\", \"Aberforth Dumbledore\", \"Mundungus Fletcher\", \"Sturgis Podmore\", \"Hestia Jones\", \"Marlene McKinnon\", \"Fabian Prewett\", \"Gideon Prewett\", \"Emmeline Vance\", \"Edgar Bones\", \"Dorcas Meadowes\", \"Benjy Fenwick\", \"Madame Olympe Maxime\", \"Gabrielle Delacour\", \"Viktor Krum\", \"Petunia Dursley\", \"Vernon Dursley\", \"Dudley Dursley\", \"Marge Dursley\", \"Dennis Creevey\", \"Albus Severus Potter\", \"Scorpius Hyperion Malfoy\", \"Edward Remus Lupin\", \"James Sirius Potter\", \"Rose Granger-Weasley\", \"Argus Filch\", \"Poppy Pomfrey\", \"Rolanda Hooch\", \"Irma Pince\", \"Aurora Sinistra\", \"Septima Vector\", \"Wilhelmina Grubbly-Plank\", \"Fenrir Greyback\", \"Gellert Grindelwald\", \"Dobby\", \"Kreacher\"], \"categoryorder\": \"array\", \"title\": {\"text\": \"Name\"}}}, \"template\": {\"data\": {\"bar\": [{\"error_x\": {\"color\": \"#f2f5fa\"}, \"error_y\": {\"color\": \"#f2f5fa\"}, \"marker\": {\"line\": {\"color\": \"rgb(17,17,17)\", \"width\": 0.5}}, \"type\": \"bar\"}], \"barpolar\": [{\"marker\": {\"line\": {\"color\": \"rgb(17,17,17)\", \"width\": 0.5}}, \"type\": \"barpolar\"}], \"carpet\": [{\"aaxis\": {\"endlinecolor\": \"#A2B1C6\", \"gridcolor\": \"#506784\", \"linecolor\": \"#506784\", \"minorgridcolor\": \"#506784\", \"startlinecolor\": \"#A2B1C6\"}, \"baxis\": {\"endlinecolor\": \"#A2B1C6\", \"gridcolor\": \"#506784\", \"linecolor\": \"#506784\", \"minorgridcolor\": \"#506784\", \"startlinecolor\": \"#A2B1C6\"}, \"type\": \"carpet\"}], \"choropleth\": [{\"colorbar\": {\"outlinewidth\": 0, \"ticks\": \"\"}, \"type\": \"choropleth\"}], \"contour\": [{\"colorbar\": {\"outlinewidth\": 0, \"ticks\": \"\"}, \"colorscale\": [[0.0, \"#0d0887\"], [0.1111111111111111, \"#46039f\"], [0.2222222222222222, \"#7201a8\"], [0.3333333333333333, \"#9c179e\"], [0.4444444444444444, \"#bd3786\"], [0.5555555555555556, \"#d8576b\"], [0.6666666666666666, \"#ed7953\"], [0.7777777777777778, \"#fb9f3a\"], [0.8888888888888888, \"#fdca26\"], [1.0, \"#f0f921\"]], \"type\": \"contour\"}], \"contourcarpet\": [{\"colorbar\": {\"outlinewidth\": 0, \"ticks\": \"\"}, \"type\": \"contourcarpet\"}], \"heatmap\": [{\"colorbar\": {\"outlinewidth\": 0, \"ticks\": \"\"}, \"colorscale\": [[0.0, \"#0d0887\"], [0.1111111111111111, \"#46039f\"], [0.2222222222222222, \"#7201a8\"], [0.3333333333333333, \"#9c179e\"], [0.4444444444444444, \"#bd3786\"], [0.5555555555555556, \"#d8576b\"], [0.6666666666666666, \"#ed7953\"], [0.7777777777777778, \"#fb9f3a\"], [0.8888888888888888, \"#fdca26\"], [1.0, \"#f0f921\"]], \"type\": \"heatmap\"}], \"heatmapgl\": [{\"colorbar\": {\"outlinewidth\": 0, \"ticks\": \"\"}, \"colorscale\": [[0.0, \"#0d0887\"], [0.1111111111111111, \"#46039f\"], [0.2222222222222222, \"#7201a8\"], [0.3333333333333333, \"#9c179e\"], [0.4444444444444444, \"#bd3786\"], [0.5555555555555556, \"#d8576b\"], [0.6666666666666666, \"#ed7953\"], [0.7777777777777778, \"#fb9f3a\"], [0.8888888888888888, \"#fdca26\"], [1.0, \"#f0f921\"]], \"type\": \"heatmapgl\"}], \"histogram\": [{\"marker\": {\"colorbar\": {\"outlinewidth\": 0, \"ticks\": \"\"}}, \"type\": \"histogram\"}], \"histogram2d\": [{\"colorbar\": {\"outlinewidth\": 0, \"ticks\": \"\"}, \"colorscale\": [[0.0, \"#0d0887\"], [0.1111111111111111, \"#46039f\"], [0.2222222222222222, \"#7201a8\"], [0.3333333333333333, \"#9c179e\"], [0.4444444444444444, \"#bd3786\"], [0.5555555555555556, \"#d8576b\"], [0.6666666666666666, \"#ed7953\"], [0.7777777777777778, \"#fb9f3a\"], [0.8888888888888888, \"#fdca26\"], [1.0, \"#f0f921\"]], \"type\": \"histogram2d\"}], \"histogram2dcontour\": [{\"colorbar\": {\"outlinewidth\": 0, \"ticks\": \"\"}, \"colorscale\": [[0.0, \"#0d0887\"], [0.1111111111111111, \"#46039f\"], [0.2222222222222222, \"#7201a8\"], [0.3333333333333333, \"#9c179e\"], [0.4444444444444444, \"#bd3786\"], [0.5555555555555556, \"#d8576b\"], [0.6666666666666666, \"#ed7953\"], [0.7777777777777778, \"#fb9f3a\"], [0.8888888888888888, \"#fdca26\"], [1.0, \"#f0f921\"]], \"type\": \"histogram2dcontour\"}], \"mesh3d\": [{\"colorbar\": {\"outlinewidth\": 0, \"ticks\": \"\"}, \"type\": \"mesh3d\"}], \"parcoords\": [{\"line\": {\"colorbar\": {\"outlinewidth\": 0, \"ticks\": \"\"}}, \"type\": \"parcoords\"}], \"pie\": [{\"automargin\": true, \"type\": \"pie\"}], \"scatter\": [{\"marker\": {\"line\": {\"color\": \"#283442\"}}, \"type\": \"scatter\"}], \"scatter3d\": [{\"line\": {\"colorbar\": {\"outlinewidth\": 0, \"ticks\": \"\"}}, \"marker\": {\"colorbar\": {\"outlinewidth\": 0, \"ticks\": \"\"}}, \"type\": \"scatter3d\"}], \"scattercarpet\": [{\"marker\": {\"colorbar\": {\"outlinewidth\": 0, \"ticks\": \"\"}}, \"type\": \"scattercarpet\"}], \"scattergeo\": [{\"marker\": {\"colorbar\": {\"outlinewidth\": 0, \"ticks\": \"\"}}, \"type\": \"scattergeo\"}], \"scattergl\": [{\"marker\": {\"line\": {\"color\": \"#283442\"}}, \"type\": \"scattergl\"}], \"scattermapbox\": [{\"marker\": {\"colorbar\": {\"outlinewidth\": 0, \"ticks\": \"\"}}, \"type\": \"scattermapbox\"}], \"scatterpolar\": [{\"marker\": {\"colorbar\": {\"outlinewidth\": 0, \"ticks\": \"\"}}, \"type\": \"scatterpolar\"}], \"scatterpolargl\": [{\"marker\": {\"colorbar\": {\"outlinewidth\": 0, \"ticks\": \"\"}}, \"type\": \"scatterpolargl\"}], \"scatterternary\": [{\"marker\": {\"colorbar\": {\"outlinewidth\": 0, \"ticks\": \"\"}}, \"type\": \"scatterternary\"}], \"surface\": [{\"colorbar\": {\"outlinewidth\": 0, \"ticks\": \"\"}, \"colorscale\": [[0.0, \"#0d0887\"], [0.1111111111111111, \"#46039f\"], [0.2222222222222222, \"#7201a8\"], [0.3333333333333333, \"#9c179e\"], [0.4444444444444444, \"#bd3786\"], [0.5555555555555556, \"#d8576b\"], [0.6666666666666666, \"#ed7953\"], [0.7777777777777778, \"#fb9f3a\"], [0.8888888888888888, \"#fdca26\"], [1.0, \"#f0f921\"]], \"type\": \"surface\"}], \"table\": [{\"cells\": {\"fill\": {\"color\": \"#506784\"}, \"line\": {\"color\": \"rgb(17,17,17)\"}}, \"header\": {\"fill\": {\"color\": \"#2a3f5f\"}, \"line\": {\"color\": \"rgb(17,17,17)\"}}, \"type\": \"table\"}]}, \"layout\": {\"annotationdefaults\": {\"arrowcolor\": \"#f2f5fa\", \"arrowhead\": 0, \"arrowwidth\": 1}, \"autotypenumbers\": \"strict\", \"coloraxis\": {\"colorbar\": {\"outlinewidth\": 0, \"ticks\": \"\"}}, \"colorscale\": {\"diverging\": [[0, \"#8e0152\"], [0.1, \"#c51b7d\"], [0.2, \"#de77ae\"], [0.3, \"#f1b6da\"], [0.4, \"#fde0ef\"], [0.5, \"#f7f7f7\"], [0.6, \"#e6f5d0\"], [0.7, \"#b8e186\"], [0.8, \"#7fbc41\"], [0.9, \"#4d9221\"], [1, \"#276419\"]], \"sequential\": [[0.0, \"#0d0887\"], [0.1111111111111111, \"#46039f\"], [0.2222222222222222, \"#7201a8\"], [0.3333333333333333, \"#9c179e\"], [0.4444444444444444, \"#bd3786\"], [0.5555555555555556, \"#d8576b\"], [0.6666666666666666, \"#ed7953\"], [0.7777777777777778, \"#fb9f3a\"], [0.8888888888888888, \"#fdca26\"], [1.0, \"#f0f921\"]], \"sequentialminus\": [[0.0, \"#0d0887\"], [0.1111111111111111, \"#46039f\"], [0.2222222222222222, \"#7201a8\"], [0.3333333333333333, \"#9c179e\"], [0.4444444444444444, \"#bd3786\"], [0.5555555555555556, \"#d8576b\"], [0.6666666666666666, \"#ed7953\"], [0.7777777777777778, \"#fb9f3a\"], [0.8888888888888888, \"#fdca26\"], [1.0, \"#f0f921\"]]}, \"colorway\": [\"#636efa\", \"#EF553B\", \"#00cc96\", \"#ab63fa\", \"#FFA15A\", \"#19d3f3\", \"#FF6692\", \"#B6E880\", \"#FF97FF\", \"#FECB52\"], \"font\": {\"color\": \"#f2f5fa\"}, \"geo\": {\"bgcolor\": \"rgb(17,17,17)\", \"lakecolor\": \"rgb(17,17,17)\", \"landcolor\": \"rgb(17,17,17)\", \"showlakes\": true, \"showland\": true, \"subunitcolor\": \"#506784\"}, \"hoverlabel\": {\"align\": \"left\"}, \"hovermode\": \"closest\", \"mapbox\": {\"style\": \"dark\"}, \"paper_bgcolor\": \"rgb(17,17,17)\", \"plot_bgcolor\": \"rgb(17,17,17)\", \"polar\": {\"angularaxis\": {\"gridcolor\": \"#506784\", \"linecolor\": \"#506784\", \"ticks\": \"\"}, \"bgcolor\": \"rgb(17,17,17)\", \"radialaxis\": {\"gridcolor\": \"#506784\", \"linecolor\": \"#506784\", \"ticks\": \"\"}}, \"scene\": {\"xaxis\": {\"backgroundcolor\": \"rgb(17,17,17)\", \"gridcolor\": \"#506784\", \"gridwidth\": 2, \"linecolor\": \"#506784\", \"showbackground\": true, \"ticks\": \"\", \"zerolinecolor\": \"#C8D4E3\"}, \"yaxis\": {\"backgroundcolor\": \"rgb(17,17,17)\", \"gridcolor\": \"#506784\", \"gridwidth\": 2, \"linecolor\": \"#506784\", \"showbackground\": true, \"ticks\": \"\", \"zerolinecolor\": \"#C8D4E3\"}, \"zaxis\": {\"backgroundcolor\": \"rgb(17,17,17)\", \"gridcolor\": \"#506784\", \"gridwidth\": 2, \"linecolor\": \"#506784\", \"showbackground\": true, \"ticks\": \"\", \"zerolinecolor\": \"#C8D4E3\"}}, \"shapedefaults\": {\"line\": {\"color\": \"#f2f5fa\"}}, \"sliderdefaults\": {\"bgcolor\": \"#C8D4E3\", \"bordercolor\": \"rgb(17,17,17)\", \"borderwidth\": 1, \"tickwidth\": 0}, \"ternary\": {\"aaxis\": {\"gridcolor\": \"#506784\", \"linecolor\": \"#506784\", \"ticks\": \"\"}, \"baxis\": {\"gridcolor\": \"#506784\", \"linecolor\": \"#506784\", \"ticks\": \"\"}, \"bgcolor\": \"rgb(17,17,17)\", \"caxis\": {\"gridcolor\": \"#506784\", \"linecolor\": \"#506784\", \"ticks\": \"\"}}, \"title\": {\"x\": 0.05}, \"updatemenudefaults\": {\"bgcolor\": \"#506784\", \"borderwidth\": 0}, \"xaxis\": {\"automargin\": true, \"gridcolor\": \"#283442\", \"linecolor\": \"#506784\", \"ticks\": \"\", \"title\": {\"standoff\": 15}, \"zerolinecolor\": \"#283442\", \"zerolinewidth\": 2}, \"yaxis\": {\"automargin\": true, \"gridcolor\": \"#283442\", \"linecolor\": \"#506784\", \"ticks\": \"\", \"title\": {\"standoff\": 15}, \"zerolinecolor\": \"#283442\", \"zerolinewidth\": 2}}}, \"title\": {\"text\": \"Hair color, Eye color, Price 3D Scatter Plot\"}, \"width\": 800},                        {\"responsive\": true}                    ).then(function(){\n",
              "                            \n",
              "var gd = document.getElementById('3189c12e-e615-45a4-99b9-cf0a2d458025');\n",
              "var x = new MutationObserver(function (mutations, observer) {{\n",
              "        var display = window.getComputedStyle(gd).display;\n",
              "        if (!display || display === 'none') {{\n",
              "            console.log([gd, 'removed!']);\n",
              "            Plotly.purge(gd);\n",
              "            observer.disconnect();\n",
              "        }}\n",
              "}});\n",
              "\n",
              "// Listen for the removal of the full notebook cells\n",
              "var notebookContainer = gd.closest('#notebook-container');\n",
              "if (notebookContainer) {{\n",
              "    x.observe(notebookContainer, {childList: true});\n",
              "}}\n",
              "\n",
              "// Listen for the clearing of the current output cell\n",
              "var outputEl = gd.closest('.output');\n",
              "if (outputEl) {{\n",
              "    x.observe(outputEl, {childList: true});\n",
              "}}\n",
              "\n",
              "                        })                };                            </script>        </div>\n",
              "</body>\n",
              "</html>"
            ]
          },
          "metadata": {
            "tags": []
          }
        }
      ]
    },
    {
      "cell_type": "markdown",
      "metadata": {
        "id": "loxerMvXHXZG"
      },
      "source": [
        "It is a colorful and complex 3D graph. It is interesting really to find a person's name and see what hair and eye colour they have."
      ]
    }
  ]
}